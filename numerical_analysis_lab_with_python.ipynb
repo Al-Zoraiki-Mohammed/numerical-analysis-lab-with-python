{
 "cells": [
  {
   "cell_type": "markdown",
   "id": "eb8b64e0",
   "metadata": {},
   "source": [
    "\n"
   ]
  },
  {
   "cell_type": "markdown",
   "id": "dfe59fab",
   "metadata": {},
   "source": [
    "# Numerical Analysis with Python  \n",
    "####  Mohammed Al-zoraiki.\n"
   ]
  },
  {
   "cell_type": "markdown",
   "id": "b0c29460",
   "metadata": {},
   "source": [
    "## Introduction:"
   ]
  },
  {
   "cell_type": "markdown",
   "id": "90e3575b",
   "metadata": {},
   "source": [
    "* Numerical analysis is concerned with the design and analysis of algorithms for solving mathematical problems that arise in many fields, especially science and engineering.\n",
    "* Designing computational methods for continuous problems:\n",
    " - from linear algebra (solving linear equation systems, finding eigenvalues etc.) \n",
    " - calculus (finding roots or extrema etc.).\n",
    " * Often related to approximations (solving ordinary or partial differential equations, computing integrals etc.).\n",
    "* Analysis of numerical algorithms: memory requirements,computing time, if approximations: accuracy of approximation.\n",
    "* Numerical analysis is an approximation, but results can be made as accurately as desired.\n",
    "* Errors come in a variety forms and sizes; some are avoidable, some are not and can only be minimized."
   ]
  },
  {
   "cell_type": "markdown",
   "id": "8d8ba14a",
   "metadata": {},
   "source": [
    "### Errors and approximations in numerical computation\n",
    "* Numerical analysis is an approximation, but results can be made asaccurately as desired.\n",
    "* Errors come in a variety forms and sizes; some are avoidable, some are not and can only be minimized.\n",
    "* Modelling Errors: A mathematical model is built to represent a physical  process or a phenomenon.\n",
    "* Data Errors: Data errors arise when data to be input into a model are  acquired using experimental methods.\n",
    "* Conversion Errors: Conversion errors arise due to the limitation of  computers to store exact decimal data.\n",
    "* ROUND-OFF ERRORS is the difference between the rounding approximation of a number and its exact value. For example, in order to use the irrational number &pi; in a computation, an approximate value is used. The difference between &pi; and the approximation (for example, 3.14 ) represents the rounding error.\n",
    "* TRUNCATION ERRORS are errors arising when truncating an infinite sum and approximating it by a finite sum. Truncation errors arise naturally when using the Taylor series, numerical integration, and numerical differentiation.\n",
    "* For example, data conversion and round-off errors can not be avoided, but human errors can be eliminated.\n",
    "* Although certain errors can not be eliminated completely, we must at least know the bounds of these errors to make use of our final selection.\n",
    "* It is therefore essential to know that how errors arise, how they grow during numerical process and how they affect the accuracy of a solution.\n"
   ]
  },
  {
   "cell_type": "markdown",
   "id": "1f012beb",
   "metadata": {},
   "source": [
    "### Error Definitions\n",
    "* True Value = Approximation Value + Error\n",
    "* True error = Et = True value – Approximation Value (+/-)\n",
    "* True fractional relative error = True error / True Value\n",
    "* True percent relative error Et= (True error / True Value) * 100 %\n"
   ]
  },
  {
   "cell_type": "markdown",
   "id": "ac4d5274",
   "metadata": {},
   "source": [
    " ####  Example for round-off error: What is the error in representing numbers in the scientific format? \n",
    " *  347.57 &asymp; 3.476 *10^2  \n",
    " * In representing 347.57, the round off error created is 347.57 - 347.6 = - 0.03"
   ]
  },
  {
   "cell_type": "code",
   "execution_count": 1,
   "id": "cc96827f",
   "metadata": {},
   "outputs": [
    {
     "name": "stdout",
     "output_type": "stream",
     "text": [
      "  true_value = 347.57 \n",
      " aproximate_value = 347.6 \n",
      " true_error = -0.03000000000002956 \n"
     ]
    }
   ],
   "source": [
    "tr_val =347.57\n",
    "apr_val= 347.6\n",
    "tr_error=tr_val - apr_val\n",
    "\n",
    "print(f'  true_value = {tr_val} \\n aproximate_value = {apr_val} \\n true_error = {tr_error} ')"
   ]
  },
  {
   "cell_type": "markdown",
   "id": "00117ef5",
   "metadata": {},
   "source": [
    "### Note: \n",
    "* In representing 347.57 as 3.476 *10^2 , the round off error created is 347.57 - 347.6 = - 0.03. But we got -0.03000000000002956 and this is due to the way floating-point arithmetic works in computers. Floating-point numbers in most programming languages, including Python, are represented in binary, which can lead to rounding errors when performing arithmetic operations. This is a fundamental limitation of representing real numbers with finite binary precision.\n",
    "\n",
    "* In another words, when we subtracted 347.6 from 347.57 in Python, the result should ideally be -0.03, but due to the internal representation of floating-point numbers, we're encountering a small rounding error. This is why we're getting a result like -0.03000000000002956. ( BTW , this error is not exactly the same error that we are talking about, but it appears to ensure the problem of round-off error in real world :) ."
   ]
  },
  {
   "cell_type": "code",
   "execution_count": 2,
   "id": "6d94f0d8",
   "metadata": {
    "scrolled": true
   },
   "outputs": [
    {
     "name": "stdout",
     "output_type": "stream",
     "text": [
      "  true_value = 347.57 \n",
      " aproximate_value = 347.6 \n",
      " true_error = -0.03 \n"
     ]
    }
   ],
   "source": [
    "# To ovide this error we can chop it to number of digits, lets say 5 digits as the following:\n",
    "tr_val =347.57\n",
    "apr_val= 347.6\n",
    "tr_error=tr_val - apr_val\n",
    "\n",
    "print(f'  true_value = {tr_val} \\n aproximate_value = {apr_val} \\n true_error = {tr_error:.5} ')\n"
   ]
  },
  {
   "cell_type": "code",
   "execution_count": 3,
   "id": "242aea3b",
   "metadata": {},
   "outputs": [
    {
     "data": {
      "text/plain": [
       "347.57"
      ]
     },
     "execution_count": 3,
     "metadata": {},
     "output_type": "execute_result"
    }
   ],
   "source": [
    "#  true value = aproximate value + True Error \n",
    "tr_val = apr_val + tr_error\n",
    "tr_val"
   ]
  },
  {
   "cell_type": "markdown",
   "id": "f6f9b325",
   "metadata": {},
   "source": [
    "#### Note: The errors are large for large numbers, but the relative errors are of the same order for both large and small numbers."
   ]
  },
  {
   "cell_type": "code",
   "execution_count": 4,
   "id": "66a5de43",
   "metadata": {},
   "outputs": [
    {
     "name": "stdout",
     "output_type": "stream",
     "text": [
      "true_error = -0.03 and tr_fractianla_error = -8.631354835005771e-05 \n",
      " tr_precent_error= -0.008631354835005772 %\n"
     ]
    }
   ],
   "source": [
    "# True Fractional Error and True percentage error\n",
    "tr_fr_error =tr_error/tr_val\n",
    "tr_pr_error=tr_fr_error * 100\n",
    "print(f'true_error = {tr_error:.5} and tr_fractianla_error = {tr_fr_error} \\n tr_precent_error= {tr_pr_error} %')"
   ]
  },
  {
   "cell_type": "markdown",
   "id": "0676ab13",
   "metadata": {},
   "source": [
    "##### Note: We can’t estimate the true error for all cases !!  becuase sometimes we dont know the true value \n",
    "#### So,\n",
    "* we will Apply approximation error to numerical approach (iterative):\n",
    "  * Approximation Fractional Error = (Currrent Approximation value - previous approximation value) / Currrent Approximation value X 100%\n"
   ]
  },
  {
   "cell_type": "markdown",
   "id": "cc680930",
   "metadata": {},
   "source": [
    "* It is always better to express the error  by absolute errore_a = |x_t| - |x_a|"
   ]
  },
  {
   "cell_type": "code",
   "execution_count": 5,
   "id": "2ca2cf85",
   "metadata": {},
   "outputs": [
    {
     "data": {
      "text/plain": [
       "8.631354835005771e-05"
      ]
     },
     "execution_count": 5,
     "metadata": {},
     "output_type": "execute_result"
    }
   ],
   "source": [
    "import numpy as np\n",
    "\n",
    "tr_fr_error= np.abs(tr_error/tr_val)\n",
    "tr_fr_error"
   ]
  },
  {
   "cell_type": "markdown",
   "id": "08b77b95",
   "metadata": {},
   "source": [
    "# Norms and Condition number  "
   ]
  },
  {
   "cell_type": "markdown",
   "id": "bbeb3736",
   "metadata": {},
   "source": [
    "### Norms:\n",
    "#### Norm is scalar measure of the magnitude of a matrix or vector (\"how big\" a vector is).\n",
    " * For example, many practical problems require ability to decide whether a sequence of vectors converges to a given vector.\n"
   ]
  },
  {
   "cell_type": "markdown",
   "id": "ed395870",
   "metadata": {},
   "source": [
    "#### Vector Norms : Scalar measure of the magnitude of a vector"
   ]
  },
  {
   "cell_type": "markdown",
   "id": "9fcb1988",
   "metadata": {},
   "source": [
    "* The first norm (norm_1) = Sum of all absolute elements\n",
    "* Infinity norm (inf_norm) = the absolute max value in the elements\n",
    "* The p_norm = the p_root of ( val1^p + val2^p +....+valn^p) mathmatically writen as $$ \\| \\mathbf{v} \\|_p = \\sqrt{\\sum_{i=1}^{n} v_i^p} $$\n",
    "    * p can be any value > 1, for example the second norm: $$ \\| \\mathbf{v} \\|_2 = \\sqrt{\\sum_{i=1}^{n} v_i^2} $$"
   ]
  },
  {
   "cell_type": "markdown",
   "id": "d32a579a",
   "metadata": {},
   "source": [
    "#####  example: \n",
    "* find the norm_1  , inf_norm and norm_2  for the vector x= [2,5,-3]"
   ]
  },
  {
   "cell_type": "code",
   "execution_count": 6,
   "id": "a6dd7797",
   "metadata": {},
   "outputs": [
    {
     "data": {
      "text/plain": [
       "array([ 2,  5, -3])"
      ]
     },
     "execution_count": 6,
     "metadata": {},
     "output_type": "execute_result"
    }
   ],
   "source": [
    "# let's represent the vector v  as 1D numpy array \n",
    "import numpy as np\n",
    "v=np.array([2,5,-3])\n",
    "v"
   ]
  },
  {
   "cell_type": "code",
   "execution_count": 7,
   "id": "c59fc4b9",
   "metadata": {},
   "outputs": [
    {
     "data": {
      "text/plain": [
       "10"
      ]
     },
     "execution_count": 7,
     "metadata": {},
     "output_type": "execute_result"
    }
   ],
   "source": [
    "norm_1 = sum(np.abs(v))\n",
    "norm_1"
   ]
  },
  {
   "cell_type": "code",
   "execution_count": 8,
   "id": "3bfcbc8a",
   "metadata": {},
   "outputs": [
    {
     "data": {
      "text/plain": [
       "5"
      ]
     },
     "execution_count": 8,
     "metadata": {},
     "output_type": "execute_result"
    }
   ],
   "source": [
    "norm_inf =np.max(np.abs(v))\n",
    "norm_inf"
   ]
  },
  {
   "cell_type": "code",
   "execution_count": 9,
   "id": "a0086eb0",
   "metadata": {},
   "outputs": [
    {
     "name": "stdout",
     "output_type": "stream",
     "text": [
      "norm_2 = 6.164414002968976\n"
     ]
    }
   ],
   "source": [
    "# Calculat norm_2 for the vector v above\n",
    "under_root=0\n",
    "for i in range(len(v)):\n",
    "    under_root +=v[i]**2 \n",
    "\n",
    "norm_2= np.sqrt(under_root)    \n",
    "print(f'norm_2 = {norm_2}')"
   ]
  },
  {
   "cell_type": "markdown",
   "id": "56aa66fe",
   "metadata": {},
   "source": [
    "####  To calculate any p_norm (any norm not only norm_2 )"
   ]
  },
  {
   "cell_type": "code",
   "execution_count": 10,
   "id": "3d5d1d0e",
   "metadata": {},
   "outputs": [],
   "source": [
    "def p_norm(v,p):\n",
    "    ''' v is the vector \n",
    "        p is the number of norm        \n",
    "    '''\n",
    "    under_root=0\n",
    "    for i in range(len(v)):\n",
    "        under_root += v[i]**p \n",
    "\n",
    "    norm_p= under_root**(1/p)    # raise under_root value to the power (1/p) to calculate the p_root. \n",
    "    print(f'norm_{p}= {norm_p}')\n",
    "    "
   ]
  },
  {
   "cell_type": "code",
   "execution_count": 11,
   "id": "073e4e07",
   "metadata": {},
   "outputs": [
    {
     "name": "stdout",
     "output_type": "stream",
     "text": [
      "norm_2= 6.164414002968976\n"
     ]
    }
   ],
   "source": [
    "# lets calculate norm_2 using our p_norm method\n",
    "p_norm([2,5,-3],2)"
   ]
  },
  {
   "cell_type": "code",
   "execution_count": 12,
   "id": "ab1bfdac",
   "metadata": {
    "scrolled": true
   },
   "outputs": [
    {
     "name": "stdout",
     "output_type": "stream",
     "text": [
      "norm_5= 4.930578861812621\n"
     ]
    }
   ],
   "source": [
    "# lets calculate norm_5\n",
    "p_norm([2,5,-3],5)"
   ]
  },
  {
   "cell_type": "markdown",
   "id": "d615f82d",
   "metadata": {},
   "source": [
    "#### Matrix Norms : We can extend norm of vectors to matrices\n",
    "* norm_1 =  The maximum  column sum of the absolute values.\n",
    "* norm_inf= The maximum row sum of the absolute values.\n",
    "* norm_2 = the square root of the M_max where M_max = the largest eigen value of [A]T*[A]\n",
    "  * if A is symetric the norm_2 = lamda_max = larges eigen values of [A];  (becuse in this case the sqaure root of M_max= lambda_max ."
   ]
  },
  {
   "cell_type": "markdown",
   "id": "a8f4f0f1",
   "metadata": {},
   "source": [
    "### Example: \n",
    "* Compute the norm_1 , norm_inf and the norm_2 for the matrix A bellow."
   ]
  },
  {
   "cell_type": "code",
   "execution_count": 13,
   "id": "a68d6e2c",
   "metadata": {},
   "outputs": [
    {
     "data": {
      "text/plain": [
       "array([[ 2.5 , -1.  ],\n",
       "       [-1.5 ,  3.25]])"
      ]
     },
     "execution_count": 13,
     "metadata": {},
     "output_type": "execute_result"
    }
   ],
   "source": [
    "A=np.array([[2.5, -1 ],\n",
    "            [-1.5 , 3.25]])\n",
    "A"
   ]
  },
  {
   "cell_type": "code",
   "execution_count": 14,
   "id": "21d5f406",
   "metadata": {
    "scrolled": true
   },
   "outputs": [
    {
     "data": {
      "text/plain": [
       "array([ 2.5, -1.5])"
      ]
     },
     "execution_count": 14,
     "metadata": {},
     "output_type": "execute_result"
    }
   ],
   "source": [
    "# we can get the columns using slicing\n",
    "A[:,0]"
   ]
  },
  {
   "cell_type": "code",
   "execution_count": 15,
   "id": "0a0889b0",
   "metadata": {},
   "outputs": [
    {
     "data": {
      "text/plain": [
       "array([-1.  ,  3.25])"
      ]
     },
     "execution_count": 15,
     "metadata": {},
     "output_type": "execute_result"
    }
   ],
   "source": [
    "# find the second colum\n",
    "A[:,1]"
   ]
  },
  {
   "cell_type": "code",
   "execution_count": 16,
   "id": "a1c3633a",
   "metadata": {},
   "outputs": [
    {
     "data": {
      "text/plain": [
       "array([2.5, 1.5])"
      ]
     },
     "execution_count": 16,
     "metadata": {},
     "output_type": "execute_result"
    }
   ],
   "source": [
    "# find the absolute value(to ignore the negative sign)\n",
    "np.abs(A[:,0])\n"
   ]
  },
  {
   "cell_type": "code",
   "execution_count": 17,
   "id": "38ea143a",
   "metadata": {},
   "outputs": [
    {
     "data": {
      "text/plain": [
       "array([1.  , 3.25])"
      ]
     },
     "execution_count": 17,
     "metadata": {},
     "output_type": "execute_result"
    }
   ],
   "source": [
    "np.abs(A[:,1])"
   ]
  },
  {
   "cell_type": "code",
   "execution_count": 18,
   "id": "45543ade",
   "metadata": {},
   "outputs": [
    {
     "data": {
      "text/plain": [
       "4.25"
      ]
     },
     "execution_count": 18,
     "metadata": {},
     "output_type": "execute_result"
    }
   ],
   "source": [
    "# To calcualte the norm_1\n",
    "norm1 = np.max((np.sum(np.abs(A[:,0])),\n",
    "                   sum(np.abs(A[:,1]))\n",
    "               ))\n",
    "norm1"
   ]
  },
  {
   "cell_type": "code",
   "execution_count": 19,
   "id": "7fef706d",
   "metadata": {},
   "outputs": [
    {
     "data": {
      "text/plain": [
       "4.75"
      ]
     },
     "execution_count": 19,
     "metadata": {},
     "output_type": "execute_result"
    }
   ],
   "source": [
    "# The norm_inf the same but consider the rows insead of colums:\n",
    "norm_inf = max(sum(np.abs(A[0,:])), sum(np.abs(A[1,:])))\n",
    "norm_inf"
   ]
  },
  {
   "cell_type": "code",
   "execution_count": 20,
   "id": "02f27383",
   "metadata": {},
   "outputs": [
    {
     "data": {
      "text/plain": [
       "array([[ 2.5 , -1.5 ],\n",
       "       [-1.  ,  3.25]])"
      ]
     },
     "execution_count": 20,
     "metadata": {},
     "output_type": "execute_result"
    }
   ],
   "source": [
    "# To find the norm_2, first we compute [A]T*[A] and then find the square root of the max eigen value or the result.\n",
    "A_T = np.transpose(A) \n",
    "A_T"
   ]
  },
  {
   "cell_type": "code",
   "execution_count": 21,
   "id": "55ac0fd2",
   "metadata": {},
   "outputs": [
    {
     "data": {
      "text/plain": [
       "array([[ 2.5 , -1.5 ],\n",
       "       [-1.  ,  3.25]])"
      ]
     },
     "execution_count": 21,
     "metadata": {},
     "output_type": "execute_result"
    }
   ],
   "source": [
    "# Note: we can do the transpose either by using the transpose method form numby library or using the appervation A.T\n",
    "A.T\n"
   ]
  },
  {
   "cell_type": "code",
   "execution_count": 22,
   "id": "227f028e",
   "metadata": {},
   "outputs": [
    {
     "data": {
      "text/plain": [
       "array([[ 8.5   , -7.375 ],\n",
       "       [-7.375 , 11.5625]])"
      ]
     },
     "execution_count": 22,
     "metadata": {},
     "output_type": "execute_result"
    }
   ],
   "source": [
    "# To multimply A_T and A as  matrix multiplication we can use '@' symbole\n",
    "A_T @ A   "
   ]
  },
  {
   "cell_type": "code",
   "execution_count": 23,
   "id": "3e153879",
   "metadata": {},
   "outputs": [
    {
     "data": {
      "text/plain": [
       "array([ 2.49896273, 17.56353727])"
      ]
     },
     "execution_count": 23,
     "metadata": {},
     "output_type": "execute_result"
    }
   ],
   "source": [
    "#To compute eigen  values:\n",
    "from numpy.linalg import eig        # import np.linalg.eig()\n",
    "eig_val, eig_vector = eig(A_T @ A)  # eig() return eigen values and eigen vecotor, but here we need eigen values only\n",
    "eig_val "
   ]
  },
  {
   "cell_type": "code",
   "execution_count": 24,
   "id": "b207fa0e",
   "metadata": {},
   "outputs": [
    {
     "data": {
      "text/plain": [
       "array([ 2.49896273, 17.56353727])"
      ]
     },
     "execution_count": 24,
     "metadata": {},
     "output_type": "execute_result"
    }
   ],
   "source": [
    "#Alternative way\n",
    "eig_val =eig(A_T @ A)[0] \n",
    "eig_val"
   ]
  },
  {
   "cell_type": "code",
   "execution_count": 25,
   "id": "42d1bc3f",
   "metadata": {},
   "outputs": [
    {
     "data": {
      "text/plain": [
       "17.563537272966958"
      ]
     },
     "execution_count": 25,
     "metadata": {},
     "output_type": "execute_result"
    }
   ],
   "source": [
    "# find the maximum eigen value of the result of [A]T*[A]\n",
    "M_max=max(eig_val)\n",
    "M_max"
   ]
  },
  {
   "cell_type": "code",
   "execution_count": 26,
   "id": "d64fece3",
   "metadata": {},
   "outputs": [
    {
     "data": {
      "text/plain": [
       "4.190887408767618"
      ]
     },
     "execution_count": 26,
     "metadata": {},
     "output_type": "execute_result"
    }
   ],
   "source": [
    "# now we find the norm_2 by taking the squre root of the maximum eigen value\n",
    "norm_2 = np.sqrt(M_max)\n",
    "norm_2"
   ]
  },
  {
   "cell_type": "markdown",
   "id": "0919c2fd",
   "metadata": {},
   "source": [
    "### Matrix Condition Number\n",
    "We calculate the condition number in numerical analysis and linear algebra for:\n",
    "\n",
    "* Numerical Stability Assessment: Condition number helps assess how sensitive a problem is to input errors, guiding the choice of stable algorithms.\n",
    "\n",
    "* Algorithm Selection: Knowledge of the condition number aids in selecting appropriate algorithms for accurate solutions, especially for ill-conditioned problems.\n",
    "\n",
    "* Solution Reliability: It provides insight into the reliability of computed solutions, crucial for precise scientific and engineering applications.\n",
    "\n",
    "* Ill-Conditioned Problem Detection: High condition numbers indicate potential issues in problem formulation, prompting necessary adjustments for stability.\n",
    "\n",
    "* Quality Control: Condition numbers ensure the accuracy of numerical results, vital for informed decision-making in research and engineering."
   ]
  },
  {
   "cell_type": "markdown",
   "id": "93a0593a",
   "metadata": {},
   "source": [
    "#### ill-conditioned and well-conditioned system\n",
    "* A system of equations is considered to be well-conditioned if a small change in the coefficient matrix or a small change in the right hand side results in a small change in the solution vector.\n",
    "* A system of equations is considered to be ill-conditioned if a small change in the coefficient matrix or a small change in the right hand side results in a large change in the solution vector.\n"
   ]
  },
  {
   "cell_type": "markdown",
   "id": "bde17ec7",
   "metadata": {},
   "source": [
    "\n",
    " * The matrix condition number Cond[A] is obtained by calculating: Cond[A] = $$ \\| \\mathbf{A} \\| . \\| \\mathbf{A}^{-1} \\| $$\n",
    " * The definition of the condition number of a matrix depends on the choice of the norm.\n",
    "     * for norm_1: Cond[A]_1 =$$ \\| \\mathbf{A} \\|1 . \\| \\mathbf{A}^{-1} \\|1 $$\n",
    "     * for  'inf' &infin; norm: Cond[A] =$$ \\| \\mathbf{A} \\|_inf . \\| \\mathbf{A}^{-1} \\|_inf $$\n",
    "     \n",
    "     * for norm_2: Cond[A]_2 =$$ \\| \\mathbf{A} \\|2 . \\| \\mathbf{A}^{-1} \\|2 $$   this exactly equal Cond[A]_2 \n",
    "         = lamd_max / lambd_min ,where lambda is the eigen val.\n"
   ]
  },
  {
   "cell_type": "markdown",
   "id": "c20c6ce0",
   "metadata": {},
   "source": [
    "### Example \n",
    " * compute the condition number for the the matrix shown bellow using:\n",
    "   * the norm_1 , norm_inf and norm_2\n",
    " \n",
    "        "
   ]
  },
  {
   "cell_type": "markdown",
   "id": "eb630963",
   "metadata": {},
   "source": [
    "#### 1. lets compute cond1 = A_norm1   X   inv_A_norm1"
   ]
  },
  {
   "cell_type": "code",
   "execution_count": 27,
   "id": "8a172d9e",
   "metadata": {
    "scrolled": true
   },
   "outputs": [
    {
     "data": {
      "text/plain": [
       "array([[ 1,  3, -6],\n",
       "       [-2,  4,  2],\n",
       "       [ 2,  1, -1]])"
      ]
     },
     "execution_count": 27,
     "metadata": {},
     "output_type": "execute_result"
    }
   ],
   "source": [
    "# Lets have some numbers for the matrix A\n",
    "A=np.array([[1,3,-6],\n",
    "            [-2,4,2],\n",
    "            [2,1,-1]])\n",
    "A"
   ]
  },
  {
   "cell_type": "code",
   "execution_count": 28,
   "id": "0f86e7f3",
   "metadata": {},
   "outputs": [
    {
     "data": {
      "text/plain": [
       "array([[-0.1       , -0.05      ,  0.5       ],\n",
       "       [ 0.03333333,  0.18333333,  0.16666667],\n",
       "       [-0.16666667,  0.08333333,  0.16666667]])"
      ]
     },
     "execution_count": 28,
     "metadata": {},
     "output_type": "execute_result"
    }
   ],
   "source": [
    "# Find the inverse of matrix A\n",
    "inv_A = np.linalg.inv(A)\n",
    "inv_A"
   ]
  },
  {
   "cell_type": "code",
   "execution_count": 29,
   "id": "181de029",
   "metadata": {},
   "outputs": [
    {
     "data": {
      "text/plain": [
       "9"
      ]
     },
     "execution_count": 29,
     "metadata": {},
     "output_type": "execute_result"
    }
   ],
   "source": [
    "# compute norm_1 for A\n",
    "A_norm_1= max((  sum(np.abs(A[:,0])),\n",
    "               sum(np.abs(A[:,1])),\n",
    "             np.sum(np.abs(A[:,2]))\n",
    "            ))\n",
    "A_norm_1"
   ]
  },
  {
   "cell_type": "code",
   "execution_count": 30,
   "id": "df9a57f6",
   "metadata": {},
   "outputs": [
    {
     "data": {
      "text/plain": [
       "0.8333333333333333"
      ]
     },
     "execution_count": 30,
     "metadata": {},
     "output_type": "execute_result"
    }
   ],
   "source": [
    "#compute norm_1 for inverse A\n",
    "inv_A_norm_1= max((  sum(np.abs(inv_A[:,0])),\n",
    "               sum(np.abs(inv_A[:,1])),\n",
    "             np.sum(np.abs(inv_A[:,2]))\n",
    "            ))\n",
    "inv_A_norm_1"
   ]
  },
  {
   "cell_type": "code",
   "execution_count": 31,
   "id": "18074fea",
   "metadata": {},
   "outputs": [
    {
     "data": {
      "text/plain": [
       "7.499999999999999"
      ]
     },
     "execution_count": 31,
     "metadata": {},
     "output_type": "execute_result"
    }
   ],
   "source": [
    "# find condition number for the matrix A using norm1\n",
    "cond_1 = A_norm_1 * inv_A_norm_1\n",
    "cond_1"
   ]
  },
  {
   "cell_type": "markdown",
   "id": "5cd05749",
   "metadata": {},
   "source": [
    "#### 2. lets compute cond_inf = A_norm_inf   x  inv_A_norm_inf"
   ]
  },
  {
   "cell_type": "code",
   "execution_count": 32,
   "id": "64268dd4",
   "metadata": {},
   "outputs": [
    {
     "data": {
      "text/plain": [
       "10"
      ]
     },
     "execution_count": 32,
     "metadata": {},
     "output_type": "execute_result"
    }
   ],
   "source": [
    "# compute norm_inf for A\n",
    "A_norm_inf= max((  sum(np.abs(A[0,:])),\n",
    "               sum(np.abs(A[1,:])),\n",
    "             np.sum(np.abs(A[2,:]))\n",
    "            ))\n",
    "A_norm_inf"
   ]
  },
  {
   "cell_type": "code",
   "execution_count": 33,
   "id": "5200c8cc",
   "metadata": {},
   "outputs": [
    {
     "data": {
      "text/plain": [
       "0.65"
      ]
     },
     "execution_count": 33,
     "metadata": {},
     "output_type": "execute_result"
    }
   ],
   "source": [
    "#compute norm_inf for inverse A\n",
    "inv_A_norm_inf= max((  sum(np.abs(inv_A[0,:])),\n",
    "               sum(np.abs(inv_A[1,:])),\n",
    "             np.sum(np.abs(inv_A[2,:]))\n",
    "            ))\n",
    "inv_A_norm_inf"
   ]
  },
  {
   "cell_type": "code",
   "execution_count": 34,
   "id": "2f4074bc",
   "metadata": {},
   "outputs": [
    {
     "data": {
      "text/plain": [
       "6.5"
      ]
     },
     "execution_count": 34,
     "metadata": {},
     "output_type": "execute_result"
    }
   ],
   "source": [
    "# condition for norm_inf\n",
    "cond_inf = A_norm_inf * inv_A_norm_inf\n",
    "cond_inf"
   ]
  },
  {
   "cell_type": "markdown",
   "id": "d26bf4ba",
   "metadata": {},
   "source": [
    "#### 3. lets compute cond_2 = A_norm_2   x  inv_A_norm_2\n",
    "* ....or if the A is symetric .... cond_2= |lambda_max(A) / lambda_min(A )| , where lambda_max(A)  and lambda_min(A)  are the maximal eigen value of (A) and the mininimal  eigen value of (A) repectively.\n"
   ]
  },
  {
   "cell_type": "code",
   "execution_count": 35,
   "id": "85e550fd",
   "metadata": {},
   "outputs": [
    {
     "data": {
      "text/plain": [
       "(array([[ 1,  3, -6],\n",
       "        [-2,  4,  2],\n",
       "        [ 2,  1, -1]]),\n",
       " array([[ 1, -2,  2],\n",
       "        [ 3,  4,  1],\n",
       "        [-6,  2, -1]]))"
      ]
     },
     "execution_count": 35,
     "metadata": {},
     "output_type": "execute_result"
    }
   ],
   "source": [
    "# Lets print A to check if it is  symetric or not? When A= A.T  we say that A is symetric\n",
    "A , A.T"
   ]
  },
  {
   "cell_type": "markdown",
   "id": "1e09a01f",
   "metadata": {},
   "source": [
    "* As we can see matrix 'A' is not symetric,so: cond_A=A_norm_2 x inv_A_norm_2"
   ]
  },
  {
   "cell_type": "markdown",
   "id": "01574266",
   "metadata": {},
   "source": [
    "* lets first calculate norm2:"
   ]
  },
  {
   "cell_type": "code",
   "execution_count": 36,
   "id": "8a5c06e9",
   "metadata": {},
   "outputs": [
    {
     "data": {
      "text/plain": [
       "array([[ 1, -2,  2],\n",
       "       [ 3,  4,  1],\n",
       "       [-6,  2, -1]])"
      ]
     },
     "execution_count": 36,
     "metadata": {},
     "output_type": "execute_result"
    }
   ],
   "source": [
    "A_T = np.transpose(A) \n",
    "A_T"
   ]
  },
  {
   "cell_type": "code",
   "execution_count": 37,
   "id": "b4bf514c",
   "metadata": {},
   "outputs": [
    {
     "data": {
      "text/plain": [
       "array([49.06236833,  3.07492307, 23.8627086 ])"
      ]
     },
     "execution_count": 37,
     "metadata": {},
     "output_type": "execute_result"
    }
   ],
   "source": [
    "np.linalg.eig(A @A_T)[0]"
   ]
  },
  {
   "cell_type": "code",
   "execution_count": 38,
   "id": "84cde9ca",
   "metadata": {},
   "outputs": [
    {
     "data": {
      "text/plain": [
       "49.062368331285285"
      ]
     },
     "execution_count": 38,
     "metadata": {},
     "output_type": "execute_result"
    }
   ],
   "source": [
    "M_max = max(np.linalg.eig(A @A_T)[0])\n",
    "M_max"
   ]
  },
  {
   "cell_type": "code",
   "execution_count": 39,
   "id": "91965fb2",
   "metadata": {},
   "outputs": [
    {
     "data": {
      "text/plain": [
       "7.004453464138747"
      ]
     },
     "execution_count": 39,
     "metadata": {},
     "output_type": "execute_result"
    }
   ],
   "source": [
    "A_norm_2 =np.sqrt(M_max)\n",
    "A_norm_2"
   ]
  },
  {
   "cell_type": "markdown",
   "id": "5cbeac24",
   "metadata": {},
   "source": [
    "* now we compute inv_A_norm_2:"
   ]
  },
  {
   "cell_type": "code",
   "execution_count": 40,
   "id": "8a467b65",
   "metadata": {},
   "outputs": [
    {
     "data": {
      "text/plain": [
       "array([[-0.1       , -0.05      ,  0.5       ],\n",
       "       [ 0.03333333,  0.18333333,  0.16666667],\n",
       "       [-0.16666667,  0.08333333,  0.16666667]])"
      ]
     },
     "execution_count": 40,
     "metadata": {},
     "output_type": "execute_result"
    }
   ],
   "source": [
    "inv_A = np.linalg.inv(A)\n",
    "inv_A"
   ]
  },
  {
   "cell_type": "code",
   "execution_count": 41,
   "id": "0ed2d0cd",
   "metadata": {},
   "outputs": [
    {
     "data": {
      "text/plain": [
       "array([[-0.1       ,  0.03333333, -0.16666667],\n",
       "       [-0.05      ,  0.18333333,  0.08333333],\n",
       "       [ 0.5       ,  0.16666667,  0.16666667]])"
      ]
     },
     "execution_count": 41,
     "metadata": {},
     "output_type": "execute_result"
    }
   ],
   "source": [
    "inv_A_T =np.transpose(inv_A)\n",
    "inv_A_T"
   ]
  },
  {
   "cell_type": "code",
   "execution_count": 42,
   "id": "bbe7a4b3",
   "metadata": {},
   "outputs": [
    {
     "data": {
      "text/plain": [
       "array([0.32521139, 0.04190639, 0.02038222])"
      ]
     },
     "execution_count": 42,
     "metadata": {},
     "output_type": "execute_result"
    }
   ],
   "source": [
    "np.linalg.eig(inv_A @inv_A_T)[0]"
   ]
  },
  {
   "cell_type": "code",
   "execution_count": 43,
   "id": "5efbf622",
   "metadata": {},
   "outputs": [
    {
     "data": {
      "text/plain": [
       "0.3252113885708043"
      ]
     },
     "execution_count": 43,
     "metadata": {},
     "output_type": "execute_result"
    }
   ],
   "source": [
    "inv_M_max = max(np.linalg.eig(inv_A @inv_A_T)[0])\n",
    "inv_M_max"
   ]
  },
  {
   "cell_type": "code",
   "execution_count": 44,
   "id": "f8a25ba2",
   "metadata": {},
   "outputs": [
    {
     "data": {
      "text/plain": [
       "0.570273082453314"
      ]
     },
     "execution_count": 44,
     "metadata": {},
     "output_type": "execute_result"
    }
   ],
   "source": [
    "inv_A_norm_2 = np.sqrt(inv_M_max)\n",
    "inv_A_norm_2"
   ]
  },
  {
   "cell_type": "markdown",
   "id": "c97fe165",
   "metadata": {},
   "source": [
    "* finaly we compute cond_2 = A_norm_2 X inv_A_norm_2"
   ]
  },
  {
   "cell_type": "code",
   "execution_count": 45,
   "id": "57f78412",
   "metadata": {},
   "outputs": [
    {
     "data": {
      "text/plain": [
       "3.9944512678951964"
      ]
     },
     "execution_count": 45,
     "metadata": {},
     "output_type": "execute_result"
    }
   ],
   "source": [
    "cond_2 = A_norm_2 * inv_A_norm_2\n",
    "cond_2"
   ]
  },
  {
   "cell_type": "markdown",
   "id": "fb4645a4",
   "metadata": {},
   "source": [
    "##### an other example, when the matrix is symetric :\n",
    "* compute the condition number for the the matrix shown bellow using:\n",
    "   * the norm_1 , norm_inf and norm_2\n",
    " "
   ]
  },
  {
   "cell_type": "markdown",
   "id": "3aecd91f",
   "metadata": {},
   "source": [
    "* first lets compute cond_1"
   ]
  },
  {
   "cell_type": "code",
   "execution_count": 46,
   "id": "892cd1f5",
   "metadata": {},
   "outputs": [
    {
     "data": {
      "text/plain": [
       "array([[2, 1],\n",
       "       [1, 2]])"
      ]
     },
     "execution_count": 46,
     "metadata": {},
     "output_type": "execute_result"
    }
   ],
   "source": [
    "A =np.array([[2,1],\n",
    "             [1,2]])\n",
    "A"
   ]
  },
  {
   "cell_type": "code",
   "execution_count": 47,
   "id": "c31d367f",
   "metadata": {},
   "outputs": [
    {
     "data": {
      "text/plain": [
       "array([[ 0.66666667, -0.33333333],\n",
       "       [-0.33333333,  0.66666667]])"
      ]
     },
     "execution_count": 47,
     "metadata": {},
     "output_type": "execute_result"
    }
   ],
   "source": [
    "inv_A = np.linalg.inv(A)\n",
    "inv_A"
   ]
  },
  {
   "cell_type": "code",
   "execution_count": 48,
   "id": "a2e8c108",
   "metadata": {},
   "outputs": [
    {
     "data": {
      "text/plain": [
       "3"
      ]
     },
     "execution_count": 48,
     "metadata": {},
     "output_type": "execute_result"
    }
   ],
   "source": [
    "#A_norm_1\n",
    "A_norm_1=max(sum(np.abs(A[0,:])),\n",
    "             sum(np.abs(A[1,:]))\n",
    "            )\n",
    "A_norm_1"
   ]
  },
  {
   "cell_type": "code",
   "execution_count": 49,
   "id": "a16911a8",
   "metadata": {},
   "outputs": [
    {
     "data": {
      "text/plain": [
       "1.0"
      ]
     },
     "execution_count": 49,
     "metadata": {},
     "output_type": "execute_result"
    }
   ],
   "source": [
    "# inv_A_norm_1\n",
    "inv_A_norm_1 = max(sum(np.abs(inv_A[0,:])),\n",
    "                 sum(np.abs(inv_A[1,:]))\n",
    "                )\n",
    "inv_A_norm_1"
   ]
  },
  {
   "cell_type": "code",
   "execution_count": 50,
   "id": "99eb510d",
   "metadata": {},
   "outputs": [
    {
     "data": {
      "text/plain": [
       "3.0"
      ]
     },
     "execution_count": 50,
     "metadata": {},
     "output_type": "execute_result"
    }
   ],
   "source": [
    "#Cond_1\n",
    "A_norm_1 * inv_A_norm_1"
   ]
  },
  {
   "cell_type": "markdown",
   "id": "74fa64ba",
   "metadata": {},
   "source": [
    "* second lets compute the cond_inf\n",
    "* Becuase A is symytric the cond1 =cond_inf \n"
   ]
  },
  {
   "cell_type": "code",
   "execution_count": 51,
   "id": "54b3fbc7",
   "metadata": {},
   "outputs": [
    {
     "data": {
      "text/plain": [
       "array([[2, 1],\n",
       "       [1, 2]])"
      ]
     },
     "execution_count": 51,
     "metadata": {},
     "output_type": "execute_result"
    }
   ],
   "source": [
    "A"
   ]
  },
  {
   "cell_type": "code",
   "execution_count": 52,
   "id": "08cb1da9",
   "metadata": {},
   "outputs": [
    {
     "data": {
      "text/plain": [
       "array([[ 0.66666667, -0.33333333],\n",
       "       [-0.33333333,  0.66666667]])"
      ]
     },
     "execution_count": 52,
     "metadata": {},
     "output_type": "execute_result"
    }
   ],
   "source": [
    "inv_A"
   ]
  },
  {
   "cell_type": "code",
   "execution_count": 53,
   "id": "545cad26",
   "metadata": {},
   "outputs": [
    {
     "data": {
      "text/plain": [
       "3"
      ]
     },
     "execution_count": 53,
     "metadata": {},
     "output_type": "execute_result"
    }
   ],
   "source": [
    "# A_norm_inf\n",
    "A_norm_inf = max(sum(np.abs(A[:,0])),\n",
    "                 sum(np.abs(A[:,1]))\n",
    "                )\n",
    "A_norm_inf "
   ]
  },
  {
   "cell_type": "code",
   "execution_count": 54,
   "id": "92ab75ec",
   "metadata": {},
   "outputs": [
    {
     "data": {
      "text/plain": [
       "1.0"
      ]
     },
     "execution_count": 54,
     "metadata": {},
     "output_type": "execute_result"
    }
   ],
   "source": [
    "#inv_A_norm_inf\n",
    "inv_A_norm_inf = max(sum(np.abs(inv_A[:,0])),\n",
    "                 sum(np.abs(inv_A[:,1]))\n",
    "                )\n",
    "inv_A_norm_inf"
   ]
  },
  {
   "cell_type": "code",
   "execution_count": 55,
   "id": "a87cd13b",
   "metadata": {},
   "outputs": [
    {
     "data": {
      "text/plain": [
       "3.0"
      ]
     },
     "execution_count": 55,
     "metadata": {},
     "output_type": "execute_result"
    }
   ],
   "source": [
    "#Cond_inf \n",
    "Cond_inf= A_norm_inf * inv_A_norm_inf\n",
    "Cond_inf"
   ]
  },
  {
   "cell_type": "markdown",
   "id": "604d752b",
   "metadata": {},
   "source": [
    "* Third lets compute cond_2\n",
    "* Becuase A symeric cond_2 = lamda_max/ lambda_min"
   ]
  },
  {
   "cell_type": "code",
   "execution_count": 56,
   "id": "7068bef3",
   "metadata": {},
   "outputs": [
    {
     "data": {
      "text/plain": [
       "(array([[2, 1],\n",
       "        [1, 2]]),\n",
       " array([[2, 1],\n",
       "        [1, 2]]))"
      ]
     },
     "execution_count": 56,
     "metadata": {},
     "output_type": "execute_result"
    }
   ],
   "source": [
    "# As we can see below A = A.T, so, it is symetric.\n",
    "A , A.T"
   ]
  },
  {
   "cell_type": "code",
   "execution_count": 57,
   "id": "e4e7b3be",
   "metadata": {},
   "outputs": [
    {
     "data": {
      "text/plain": [
       "array([3., 1.])"
      ]
     },
     "execution_count": 57,
     "metadata": {},
     "output_type": "execute_result"
    }
   ],
   "source": [
    "eig_val= np.linalg.eig(A)[0]\n",
    "eig_val"
   ]
  },
  {
   "cell_type": "code",
   "execution_count": 58,
   "id": "e78426cb",
   "metadata": {},
   "outputs": [
    {
     "data": {
      "text/plain": [
       "3.0"
      ]
     },
     "execution_count": 58,
     "metadata": {},
     "output_type": "execute_result"
    }
   ],
   "source": [
    "lamda_max =max((eig_val))\n",
    "lamda_max\n"
   ]
  },
  {
   "cell_type": "code",
   "execution_count": 59,
   "id": "63f18cd6",
   "metadata": {},
   "outputs": [
    {
     "data": {
      "text/plain": [
       "1.0"
      ]
     },
     "execution_count": 59,
     "metadata": {},
     "output_type": "execute_result"
    }
   ],
   "source": [
    "lamda_min =min((eig_val))\n",
    "lamda_min"
   ]
  },
  {
   "cell_type": "code",
   "execution_count": 60,
   "id": "cae027ee",
   "metadata": {},
   "outputs": [
    {
     "data": {
      "text/plain": [
       "3.0"
      ]
     },
     "execution_count": 60,
     "metadata": {},
     "output_type": "execute_result"
    }
   ],
   "source": [
    "cond_2 = lamda_max / lamda_min\n",
    "cond_2"
   ]
  },
  {
   "cell_type": "markdown",
   "id": "fb31e12d",
   "metadata": {},
   "source": [
    "### Remark:\n",
    "* The secret of doing this calculation when the matrix is symetric is the following: \n",
    "* if we pretend that we do not know that the matrix is symetric or not? \n",
    "*  we will calculate A_T and we will find that A.T = A So, A * A_T = A^2 and when taking the sqrt(A^2) = A we find A again ! for this reason we calculat the lamda_max and lamda_min for A and not for A_T * A "
   ]
  },
  {
   "cell_type": "markdown",
   "id": "2c3d4784",
   "metadata": {},
   "source": [
    "### Determinant for a matrix:\n",
    "\n",
    "![image not found](determinant_of_a_matrix.png)\n",
    "* The determinant of a square matrix is a scalar value with these key properties and applications:\n",
    "\n",
    "    * Invertibility: A matrix is invertible if and only if its determinant is nonzero.\n",
    "\n",
    "    * Solving Systems: Determinants are used in Cramer's Rule for solving systems of linear equations.\n",
    "    \n",
    "    * Geometry: They help calculate volumes in higher dimensions and the signed volume of parallelepipeds.\n",
    "\n",
    "    * Eigenvalues/Vectors: Determinants are involved in finding eigenvalues and eigenvectors of a matrix.\n",
    "\n",
    "    * Integration: Used in multivariable calculus when changing variables in multiple integrals.\n",
    "\n",
    "    * Transformations: The determinant provides insights into how matrices transform volumes; a negative determinant indicates reflection or flip.\n",
    "\n",
    "    * Cross Product: Determinants are used in expressing the cross product of vectors in three-dimensional space.\n",
    "\n",
    "* Understanding determinants is fundamental in linear algebra, providing a versatile tool in various mathematical and scientific contexts.\n",
    "\n",
    "-  [image source and more deteails](https://www.geeksforgeeks.org/determinant-of-a-matrix/)\n",
    "\n",
    "\n"
   ]
  },
  {
   "cell_type": "markdown",
   "id": "e40684bf",
   "metadata": {},
   "source": [
    "##### Example: "
   ]
  },
  {
   "cell_type": "code",
   "execution_count": 61,
   "id": "3b9f5db5",
   "metadata": {},
   "outputs": [
    {
     "data": {
      "text/plain": [
       "array([[2, 4],\n",
       "       [3, 5]])"
      ]
     },
     "execution_count": 61,
     "metadata": {},
     "output_type": "execute_result"
    }
   ],
   "source": [
    "# Find the determinant of the following 2x2 matrix:\n",
    "A= np.array([[2,4],[3,5]])\n",
    "A"
   ]
  },
  {
   "cell_type": "code",
   "execution_count": 62,
   "id": "59bcf26e",
   "metadata": {},
   "outputs": [
    {
     "data": {
      "text/plain": [
       "-2"
      ]
     },
     "execution_count": 62,
     "metadata": {},
     "output_type": "execute_result"
    }
   ],
   "source": [
    "# Let's compute it manually:\n",
    "a = A[0,0] \n",
    "b = A[0,1]\n",
    "c = A[1,0]\n",
    "d = A[1,1]\n",
    "det = (a * d) - (b * c)\n",
    "det "
   ]
  },
  {
   "cell_type": "code",
   "execution_count": 63,
   "id": "5aa9aeb1",
   "metadata": {},
   "outputs": [
    {
     "data": {
      "text/plain": [
       "-2.0000000000000004"
      ]
     },
     "execution_count": 63,
     "metadata": {},
     "output_type": "execute_result"
    }
   ],
   "source": [
    "# We can  find that directly using the method det() in the linalg module:\n",
    "np.linalg.det(A)"
   ]
  },
  {
   "cell_type": "markdown",
   "id": "e9208c89",
   "metadata": {},
   "source": [
    "* Remarks: \n",
    "    - The slight difference between manually calculating the determinant of a matrix in Python and using the det() method from the linalg module arises due to the inherent limitations of floating-point arithmetic. The det() method employs more advanced algorithms and precision management, attempting to provide a more accurate result. However, the imprecision in representing real numbers in a computer can still lead to minor variations in the calculated determinant values.\n",
    "    - The numpy.linalg.det() method typically uses LU decomposition with partial pivoting to calculate the determinant of a matrix.( We will get acquainted with that later in this notebook)\n"
   ]
  },
  {
   "cell_type": "code",
   "execution_count": 64,
   "id": "3ac3403c",
   "metadata": {},
   "outputs": [
    {
     "data": {
      "text/plain": [
       "-2"
      ]
     },
     "execution_count": 64,
     "metadata": {},
     "output_type": "execute_result"
    }
   ],
   "source": [
    "# we can  convert that to int to avoid floating point error\n",
    "int(np.linalg.det(A))"
   ]
  },
  {
   "cell_type": "markdown",
   "id": "71ede747",
   "metadata": {},
   "source": [
    "* We can also use det() method to find the determinat for nxn matrix not only 2x2:"
   ]
  },
  {
   "cell_type": "code",
   "execution_count": 65,
   "id": "7d7b7892",
   "metadata": {},
   "outputs": [
    {
     "data": {
      "text/plain": [
       "array([[2, 3, 4],\n",
       "       [5, 6, 7],\n",
       "       [8, 9, 1]])"
      ]
     },
     "execution_count": 65,
     "metadata": {},
     "output_type": "execute_result"
    }
   ],
   "source": [
    "A = np.array([[2,3,4],\n",
    "              [5,6,7],\n",
    "              [8,9,1]])\n",
    "A"
   ]
  },
  {
   "cell_type": "code",
   "execution_count": 66,
   "id": "68d744c3",
   "metadata": {},
   "outputs": [
    {
     "data": {
      "text/plain": [
       "27.0"
      ]
     },
     "execution_count": 66,
     "metadata": {},
     "output_type": "execute_result"
    }
   ],
   "source": [
    "# Calcualting the determinant for the 3x3 matrix A above:\n",
    "np.linalg.det(A)"
   ]
  },
  {
   "cell_type": "markdown",
   "id": "3f4e614c",
   "metadata": {},
   "source": [
    "## The spectral radius of a matrix . ρ(A)\n",
    "* The spectral radius of a matrix is the Maximum absolute eigen value in the matrix\n",
    "    -  ρ(A)= max |eig_value|\n",
    "\n",
    " ∣\n",
    "* the spectral radius is a key metric in understanding stability and convergence properties in various mathematical and computational applications. For example:\n",
    "    - Iterative Methods: In iterative solutions of linear systems, a smaller spectral radius often indicates faster convergence.\n",
    "    - Dynamical Systems Stability: For discrete-time linear systems, stability is determined by ρ(A)<1. In continuous-time systems, eigenvalues play a similar role.\n",
    "    - Numerical Stability: Spectral radius is crucial in ensuring the stability of numerical methods, guiding choices like time step in simulations or solutions of differential equations.\n",
    "    "
   ]
  },
  {
   "cell_type": "markdown",
   "id": "eb7add19",
   "metadata": {},
   "source": [
    "#### Example:\n",
    "* Find the spectral radius for the following matrix C :"
   ]
  },
  {
   "cell_type": "code",
   "execution_count": 67,
   "id": "40c4e19e",
   "metadata": {},
   "outputs": [
    {
     "data": {
      "text/plain": [
       "array([[ 0.5       , -0.33333333],\n",
       "       [-0.33333333,  0.25      ]])"
      ]
     },
     "execution_count": 67,
     "metadata": {},
     "output_type": "execute_result"
    }
   ],
   "source": [
    "C= np.array([[1/2,-1/3]\n",
    "            ,[-1/3,1/4]])\n",
    "C"
   ]
  },
  {
   "cell_type": "code",
   "execution_count": 68,
   "id": "9ed238a1",
   "metadata": {},
   "outputs": [
    {
     "data": {
      "text/plain": [
       "array([0.73100016, 0.01899984])"
      ]
     },
     "execution_count": 68,
     "metadata": {},
     "output_type": "execute_result"
    }
   ],
   "source": [
    "# first we find eigen values of the matrix C\n",
    "C_eigenvalues = np.linalg.eig(C)[0]\n",
    "C_eigenvalues"
   ]
  },
  {
   "cell_type": "code",
   "execution_count": 69,
   "id": "330858f4",
   "metadata": {},
   "outputs": [
    {
     "data": {
      "text/plain": [
       "0.7310001560548971"
      ]
     },
     "execution_count": 69,
     "metadata": {},
     "output_type": "execute_result"
    }
   ],
   "source": [
    "# second we get the max absolute eigen value ( spectral radius)\n",
    "sep_radius = max(C_eigenvalues)\n",
    "sep_radius"
   ]
  },
  {
   "cell_type": "markdown",
   "id": "ee2ade32",
   "metadata": {},
   "source": [
    "# Root Finding Problems\n",
    "* The root-finding problem is a process involves finding a root, or solution of an equation.\n",
    "* Many problems in Science and Engineering are expressed as:\n",
    "    - Given a continuous function f(x), find the value r such that f(r) = 0\n"
   ]
  },
  {
   "cell_type": "markdown",
   "id": "ece9beab",
   "metadata": {},
   "source": [
    "### Solution Methods\n",
    "* Several ways to solve nonlinear equations are possible:\n",
    "##### Analytical  Solutions\n",
    "* These methods are:\n",
    "    - Direct Solution (Algebraic Methods): examle --> solve ax + b =0 , solution: x = -b/a.\n",
    "    - Factoring: Example --> x^2 - 4 = 0 , solution is (x -2)(x+2) = 0.  So, x = 2 or x = -2.\n",
    "    - Substitution: Substituting one variable with another to simplify the equation.\n",
    "    - Specialized formulas for cubic and quartic equations.\n",
    "* it is important to know that the more dgree of equation increases the more diffecult to solve them using analytical methods. So, we can say that analytical methods are possible for special equations only; for these reason we need to use other methods such as numerical methods.  \n",
    "#####  Graphical Solutions\n",
    "• Useful for providing initial guesses for other methods \n",
    "#####  Numerical Solutions ( our interest in this notebook):\n",
    "* A numerical solution refers to an approach where the root (or roots) of an equation is approximated using numerical methods. Numerical methods are techniques that use iterative algorithms to compute numerical values that are close to the true solution of a mathematical problem. Some of the famous numerical methods are: \n",
    "    - Bisection Method\n",
    "    - Newton’s Method\n",
    "    - Secant Method\n",
    "    - Fixed point Method\n"
   ]
  },
  {
   "cell_type": "markdown",
   "id": "c5e216aa",
   "metadata": {},
   "source": [
    "## Intermediate value theorem:\n",
    "* If a function is continuous and f(a) and f(b) have different signs then the function has at least one zero/root in the interval [a,b].\n",
    "![image not found](Intermediate_value_theorem.PNG)\n",
    "* This theorem leads us to the fact that we can use numerical  methods to approximate the root in the given interval using \"iterative\" aproaches.\n",
    "* The idea behind an iterative methods is the following:\n",
    "    - Starting with an initial approximation , construct a sequence of iterates using an iteration formula with a hope that this sequence converges to a root of f(x) = 0. \n",
    "* Two important aspects of an iterative method are:\n",
    "    - convergence and \n",
    "    - stopping criterion.\n",
    "* Stopping criterion: The algorithm should terminate and accept xn as a root of f(x)=0 if any one of the following criteria is satisfied:\n",
    "    - |f(xn)|< tol\n",
    "    - |xn - xn-1|< tol  , where tol is given tolerance.\n",
    "    "
   ]
  },
  {
   "cell_type": "markdown",
   "id": "1de2550d",
   "metadata": {},
   "source": [
    "## Bisection Method\n",
    "* The Bisection method is one of the simplest methods to find a zero of a nonlinear function.\n",
    "* It is also called interval halving method.\n",
    "* To use the Bisection method, one needs an initial interval that is known to contain a zero/root of the function. \n",
    "* The method systematically reduces the interval. It does this by dividing the interval into two equal parts, performs a simple test and based on the result of the test, half of the interval is thrown away.\n",
    "* The procedure is repeated until the desired interval size is obtained\n"
   ]
  },
  {
   "cell_type": "markdown",
   "id": "6c7a9e51",
   "metadata": {},
   "source": [
    "![image not found :( ](Bisection_Method.png)"
   ]
  },
  {
   "cell_type": "markdown",
   "id": "8ba7e43c",
   "metadata": {},
   "source": [
    "* Assumptions: \n",
    " * f(x) is continuous on [a,b] \n",
    " * f(a) f(b) < 0  ( This means f(a) > 0 and f(b) < 0, or vise versa)\n",
    "* Algorithm:\n",
    " * Loop:\n",
    "  1. Compute the mid point c=(a+b)/2\n",
    "  2. Evaluate f(c)\n",
    "  3. If f(a) f(c) < 0 then new interval [a, c]\n",
    "  4. If f(a) f(c) > 0 then new interval [c, b]\n",
    " * end loop"
   ]
  },
  {
   "cell_type": "markdown",
   "id": "39aee182",
   "metadata": {},
   "source": [
    "### Example:\n",
    "* let f(x) =x^3 - x^2 +3x - 1.\n",
    " 1. show that f(x)=0 has at least one root between 0 and 1.\n",
    " 2. Using the bisection method, approximate this root to whithin a tolerance of 10^-1 accuracy.\n",
    " 3. How many iterations are needed for this method in order to obtain 10^-4 accuracy?\n",
    " "
   ]
  },
  {
   "cell_type": "markdown",
   "id": "f0ebb44f",
   "metadata": {},
   "source": [
    "### solution:"
   ]
  },
  {
   "cell_type": "code",
   "execution_count": 70,
   "id": "8e8bd643",
   "metadata": {},
   "outputs": [],
   "source": [
    "# Lets define f(x)\n",
    "def f(x):\n",
    "    return  (x**3 - x**2 +3*x - 1)"
   ]
  },
  {
   "cell_type": "code",
   "execution_count": 71,
   "id": "3457a55c",
   "metadata": {},
   "outputs": [],
   "source": [
    "#1. Lets check if f(x) has at least one root between 0 and 1. (interval [0,1]):\n",
    "def is_there_root_in(a,b):\n",
    "    if f(a) * f(b)<0:\n",
    "        print(f'Yes,The fuction  has at least one root between {a} and {b}')\n",
    "    else:\n",
    "            print(f'No, the function has no root between {a} and {b}')"
   ]
  },
  {
   "cell_type": "code",
   "execution_count": 72,
   "id": "9ec601d8",
   "metadata": {
    "scrolled": true
   },
   "outputs": [
    {
     "name": "stdout",
     "output_type": "stream",
     "text": [
      "Yes,The fuction  has at least one root between 0 and 1\n"
     ]
    }
   ],
   "source": [
    "is_there_root_in(0,1)"
   ]
  },
  {
   "cell_type": "code",
   "execution_count": 73,
   "id": "5f03cff2",
   "metadata": {},
   "outputs": [
    {
     "name": "stdout",
     "output_type": "stream",
     "text": [
      "No, the function has no root between 10 and 100\n"
     ]
    }
   ],
   "source": [
    "# what if we like to check another interval!\n",
    "is_there_root_in(10,100)"
   ]
  },
  {
   "cell_type": "code",
   "execution_count": 74,
   "id": "739b6b49",
   "metadata": {},
   "outputs": [],
   "source": [
    "# short alternativ solution, we can use it later in bisection method:\n",
    "def is_there_root_in(a,b):\n",
    "    return(f(a) * f(b)<0)"
   ]
  },
  {
   "cell_type": "code",
   "execution_count": 75,
   "id": "468a54ae",
   "metadata": {},
   "outputs": [
    {
     "data": {
      "text/plain": [
       "True"
      ]
     },
     "execution_count": 75,
     "metadata": {},
     "output_type": "execute_result"
    }
   ],
   "source": [
    "is_there_root_in(0,1)"
   ]
  },
  {
   "cell_type": "code",
   "execution_count": 76,
   "id": "65db59d9",
   "metadata": {},
   "outputs": [
    {
     "data": {
      "text/plain": [
       "False"
      ]
     },
     "execution_count": 76,
     "metadata": {},
     "output_type": "execute_result"
    }
   ],
   "source": [
    "is_there_root_in(10,20)"
   ]
  },
  {
   "cell_type": "markdown",
   "id": "159d877c",
   "metadata": {},
   "source": [
    "* Step 2. to approximate the root in the interval [0,1]"
   ]
  },
  {
   "cell_type": "code",
   "execution_count": 191,
   "id": "e1ac1b41",
   "metadata": {},
   "outputs": [],
   "source": [
    "# Lets define a function for bisection method and aroximate the root in the given interval.\n",
    "def bisec_method(a,b,n=10,error=0.001):\n",
    "    if is_there_root_in(a,b):\n",
    "        for i in range(n):\n",
    "            c=(a+b)/2\n",
    "            print(f'iteration {i} root c= {c}  ,f(c) = {f(c)}')\n",
    "            if f(a)*f(c) < 0:\n",
    "                a,b = a,c\n",
    "            elif f(a)*f(c)>0:   \n",
    "                a,b = c,b\n",
    "            if np.abs(f(c))<error:\n",
    "                return f'The approximation root is: {c}'\n",
    "           \n",
    "    else: print(f'The fuction  has no root between {a} and {b}')\n",
    "    print(f'the root with error < {error} needs iteration n> 10')\n"
   ]
  },
  {
   "cell_type": "code",
   "execution_count": 192,
   "id": "3cdf59af",
   "metadata": {},
   "outputs": [
    {
     "name": "stdout",
     "output_type": "stream",
     "text": [
      "iteration 0 root c= 0.5  ,f(c) = 0.375\n",
      "iteration 1 root c= 0.25  ,f(c) = -0.296875\n",
      "iteration 2 root c= 0.375  ,f(c) = 0.037109375\n"
     ]
    },
    {
     "data": {
      "text/plain": [
       "'The approximation root is: 0.375'"
      ]
     },
     "execution_count": 192,
     "metadata": {},
     "output_type": "execute_result"
    }
   ],
   "source": [
    "bisec_method(0,1,n=10,error=0.1)"
   ]
  },
  {
   "cell_type": "code",
   "execution_count": 193,
   "id": "48f56423",
   "metadata": {},
   "outputs": [
    {
     "name": "stdout",
     "output_type": "stream",
     "text": [
      "iteration 0 root c= 0.5  ,f(c) = 0.375\n",
      "iteration 1 root c= 0.25  ,f(c) = -0.296875\n",
      "iteration 2 root c= 0.375  ,f(c) = 0.037109375\n",
      "iteration 3 root c= 0.3125  ,f(c) = -0.129638671875\n",
      "iteration 4 root c= 0.34375  ,f(c) = -0.046295166015625\n",
      "iteration 5 root c= 0.359375  ,f(c) = -0.004611968994140625\n",
      "iteration 6 root c= 0.3671875  ,f(c) = 0.016242504119873047\n",
      "iteration 7 root c= 0.36328125  ,f(c) = 0.005813896656036377\n",
      "iteration 8 root c= 0.361328125  ,f(c) = 0.0006006434559822083\n"
     ]
    },
    {
     "data": {
      "text/plain": [
       "'The approximation root is: 0.361328125'"
      ]
     },
     "execution_count": 193,
     "metadata": {},
     "output_type": "execute_result"
    }
   ],
   "source": [
    "# lets try to use the defualt number of iterations and tolerance n=10,error=0.001 respectively\n",
    "bisec_method(0,1) "
   ]
  },
  {
   "cell_type": "code",
   "execution_count": 194,
   "id": "17b1c839",
   "metadata": {},
   "outputs": [
    {
     "name": "stdout",
     "output_type": "stream",
     "text": [
      "iteration 0 root c= 0.5  ,f(c) = 0.375\n",
      "iteration 1 root c= 0.25  ,f(c) = -0.296875\n",
      "iteration 2 root c= 0.375  ,f(c) = 0.037109375\n",
      "iteration 3 root c= 0.3125  ,f(c) = -0.129638671875\n",
      "iteration 4 root c= 0.34375  ,f(c) = -0.046295166015625\n",
      "iteration 5 root c= 0.359375  ,f(c) = -0.004611968994140625\n",
      "iteration 6 root c= 0.3671875  ,f(c) = 0.016242504119873047\n",
      "iteration 7 root c= 0.36328125  ,f(c) = 0.005813896656036377\n",
      "iteration 8 root c= 0.361328125  ,f(c) = 0.0006006434559822083\n",
      "iteration 9 root c= 0.3603515625  ,f(c) = -0.0020057400688529015\n",
      "the root with error < 1e-05 needs iteration n> 10\n"
     ]
    }
   ],
   "source": [
    "# lets try with tolerance tol= 0.00001\n",
    "bisec_method(0,1,error=0.00001)"
   ]
  },
  {
   "cell_type": "markdown",
   "id": "a848bc81",
   "metadata": {},
   "source": [
    "*  question 3 :How many iterations are needed for this method in order to obtain 10^-4 accuracy?\n",
    "\n",
    "\n",
    "* The formula is (|a - b| / 2^n)<= Error , where n is the number of iterations\n",
    "* n can be found as: n = log( (|a - b|) / error ) / log(2)"
   ]
  },
  {
   "cell_type": "code",
   "execution_count": 195,
   "id": "542c9902",
   "metadata": {},
   "outputs": [],
   "source": [
    "#import math\n",
    "def bisection_iterations(a,b,error =0.001):\n",
    "    return np.ceil((np.math.log(np.abs(a-b)/error))/np.math.log(2))\n",
    "    "
   ]
  },
  {
   "cell_type": "code",
   "execution_count": 196,
   "id": "db52fa8f",
   "metadata": {},
   "outputs": [
    {
     "data": {
      "text/plain": [
       "14.0"
      ]
     },
     "execution_count": 196,
     "metadata": {},
     "output_type": "execute_result"
    }
   ],
   "source": [
    "bisection_iterations(0,1,error =0.0001)"
   ]
  },
  {
   "cell_type": "markdown",
   "id": "f86bb12c",
   "metadata": {},
   "source": [
    "# Newton's method ( Newton-Raphson):\n",
    "* Given an initial guess of the root x0, Newton-Raphson method uses information about the function and its derivative at that point to find a better guess of the root.\n",
    "* Assumptions:\n",
    "    – f(x) is continuous and the first derivative is known\n",
    "    – An initial guess x0 such that f’(x0) ≠ 0 is given\n",
    "\n",
    "* Formula:  $$ x_{n+1}=  x_n - \\frac{ f(x_n)}{f'(x_n)} $$\n",
    " "
   ]
  },
  {
   "cell_type": "markdown",
   "id": "2eaa02b9",
   "metadata": {},
   "source": [
    "![image not found](newton_method.png)"
   ]
  },
  {
   "cell_type": "markdown",
   "id": "b2515203",
   "metadata": {},
   "source": [
    "#### Eample:\n",
    "* Use five iterations of Newton's method to find an approximation for the root of the same example above,( the function bellow) in the interval [0,1]. $$ f(x) =x^3 - x^2 +3x - 1 $$  \n",
    "\n"
   ]
  },
  {
   "cell_type": "code",
   "execution_count": 197,
   "id": "771f4179",
   "metadata": {},
   "outputs": [],
   "source": [
    "# lets take the initial gues x_n=0 , from the interval [0,1]\n",
    "x_n =0 "
   ]
  },
  {
   "cell_type": "markdown",
   "id": "ad3a08fd",
   "metadata": {},
   "source": [
    "*  f(x)  function is already declare above whe used bisection method. we need only to define the dervative of f(x).\n",
    "* We Know that the dervative of funtion f(x) = x^3 - x^2 +3x - 1  is f'(x) = 3x^2 -2x + 3"
   ]
  },
  {
   "cell_type": "code",
   "execution_count": 198,
   "id": "1cefc3cd",
   "metadata": {},
   "outputs": [],
   "source": [
    "# Lets define f(x)\n",
    "def f(x):\n",
    "    return  (x**3 - x**2 +3*x - 1)"
   ]
  },
  {
   "cell_type": "code",
   "execution_count": 199,
   "id": "f95cc8d0",
   "metadata": {},
   "outputs": [],
   "source": [
    "# let's define f'(x) as  derftive of f(x). \n",
    "def df(x):\n",
    "    return (3*x**2 -2*x+3)\n",
    "    "
   ]
  },
  {
   "cell_type": "code",
   "execution_count": 200,
   "id": "d718dde3",
   "metadata": {},
   "outputs": [],
   "source": [
    "def newton_method(x0=0, n= 10):\n",
    "    ''' - x0 is the given intial point, defult is 0.\n",
    "        - n is a scalar represent the number of iterations.   \n",
    "    '''\n",
    "    print(f'n0, x0={x0}')\n",
    "    for i in range(n):\n",
    "        xn = x0 - (f(x0)/df(x0)) \n",
    "        x0 =xn\n",
    "        print(f'n{i+1}, x{i+1}= {xn}')\n",
    "    \n",
    "    "
   ]
  },
  {
   "cell_type": "code",
   "execution_count": 201,
   "id": "07381114",
   "metadata": {},
   "outputs": [
    {
     "name": "stdout",
     "output_type": "stream",
     "text": [
      "n0, x0=0\n",
      "n1, x1= 0.3333333333333333\n",
      "n2, x2= 0.3611111111111111\n",
      "n3, x3= 0.36110308053066076\n",
      "n4, x4= 0.36110308052864737\n",
      "n5, x5= 0.36110308052864737\n",
      "n6, x6= 0.36110308052864737\n",
      "n7, x7= 0.36110308052864737\n",
      "n8, x8= 0.36110308052864737\n",
      "n9, x9= 0.36110308052864737\n",
      "n10, x10= 0.36110308052864737\n"
     ]
    }
   ],
   "source": [
    "newton_method()"
   ]
  },
  {
   "cell_type": "markdown",
   "id": "1d92bfee",
   "metadata": {},
   "source": [
    "* As we can see that Newton method is faster than bisection method because it reaches 0.36 approximate root in just 2  iterations, while bisection needed around 6 iterations, knowing that in the both method we used the same starting approximation piont x0=0"
   ]
  },
  {
   "cell_type": "markdown",
   "id": "7d567508",
   "metadata": {},
   "source": [
    "##### Remark: \n",
    "* We can use the module sympy to help us to calcualte the symbolic deratives as the  example below."
   ]
  },
  {
   "cell_type": "code",
   "execution_count": 202,
   "id": "821feb18",
   "metadata": {},
   "outputs": [
    {
     "name": "stdout",
     "output_type": "stream",
     "text": [
      "The derivative of f(x) = x**3 - x**2 + 3*x - 1 \n"
     ]
    },
    {
     "data": {
      "text/latex": [
       "$\\displaystyle 3 x^{2} - 2 x + 3$"
      ],
      "text/plain": [
       "3*x**2 - 2*x + 3"
      ]
     },
     "execution_count": 202,
     "metadata": {},
     "output_type": "execute_result"
    }
   ],
   "source": [
    "import sympy as sp\n",
    "\n",
    "# Define a symbolic variable\n",
    "x = sp.symbols('x')\n",
    "\n",
    "# Define a symbolic expression/function\n",
    "f = x**3 - x**2 +3*x - 1\n",
    "\n",
    "# Calculate the derivative of the expression/function with respect to x\n",
    "df = sp.diff(f, x)\n",
    "\n",
    "# Print the result\n",
    "print(f\"The derivative of f(x) = {f} \"  )\n",
    "df"
   ]
  },
  {
   "cell_type": "markdown",
   "id": "f81111ea",
   "metadata": {},
   "source": [
    "# Secant Method\n",
    "* We usually use Secant Method when we do not know the derivative of f(x)?(which required for newton method).\n",
    "* secant method:\n",
    "  * It is the same newton method $$ x_{n+1}= x_n - \\frac{  f(x_n)}{f'(x_n)} $$ but we calculate the derivative of f'(x) in different way, as the following formula:       \n",
    "$$\n",
    "f'(x_n)=\\frac{f(x_n)-f(x_{n-1})}{(x_n - x_{n-1})}\n",
    "$$\n",
    "* In particular,  the derivative of the function f(x) is approximated numerically by the slope of a secant to the curve not by the tangent line/tangent vecotr as in the fig bellow.\n",
    "\n",
    "* so, the final formula for Secant method is:\n",
    "$$x_{n+1}= x_n - \\frac{ f(x_n)}{f(x_n)-f(x_{n-1})}{(x_n - x_{n-1})}$$\n",
    "\n",
    "\n",
    "* This method assumes two initial points are given: $$ x_n, x_{n-1} $$. \n",
    "\n"
   ]
  },
  {
   "cell_type": "markdown",
   "id": "47180bdd",
   "metadata": {},
   "source": [
    "![image not found](secant0.png)\n"
   ]
  },
  {
   "cell_type": "markdown",
   "id": "bb4809c9",
   "metadata": {},
   "source": [
    "![image not found](secant1.png)\n"
   ]
  },
  {
   "cell_type": "markdown",
   "id": "03a46a82",
   "metadata": {},
   "source": [
    "### Example: \n",
    "  * Approximate a root of f(x)=cosx - x using secant method employing an initial guess of x1=0.5,x2=pi/4.\n",
    "  * note: pi/4  = 0.7861475"
   ]
  },
  {
   "cell_type": "code",
   "execution_count": 203,
   "id": "87af0518",
   "metadata": {},
   "outputs": [],
   "source": [
    "# Lets define the function f(x)=cos(x)-x\n",
    "def f1(x):\n",
    "    return math.cos(x)-x\n",
    "    "
   ]
  },
  {
   "cell_type": "code",
   "execution_count": 204,
   "id": "4ccfcebf",
   "metadata": {
    "scrolled": true
   },
   "outputs": [
    {
     "data": {
      "text/plain": [
       "-1.0"
      ]
     },
     "execution_count": 204,
     "metadata": {},
     "output_type": "execute_result"
    }
   ],
   "source": [
    "# Reamrk: arguments for cos() method  of math module is represented in radian not in degree.\n",
    "import math\n",
    "math.cos(math.pi) "
   ]
  },
  {
   "cell_type": "markdown",
   "id": "1fd874a9",
   "metadata": {},
   "source": [
    "* math.cos(math.pi) = math.cos(3.14159)(without some rounding error)"
   ]
  },
  {
   "cell_type": "code",
   "execution_count": 205,
   "id": "9767ce59",
   "metadata": {},
   "outputs": [
    {
     "data": {
      "text/plain": [
       "-0.9999999999964793"
      ]
     },
     "execution_count": 205,
     "metadata": {},
     "output_type": "execute_result"
    }
   ],
   "source": [
    "math.cos(3.14159) "
   ]
  },
  {
   "cell_type": "markdown",
   "id": "8befcc32",
   "metadata": {},
   "source": [
    "$$x_{n+1}= x_n - \\frac{ f(x_n)}{f(x_n)-f(x_{n-1})}{(x_n - x_{n-1})}$$\n"
   ]
  },
  {
   "cell_type": "code",
   "execution_count": 243,
   "id": "69d8e623",
   "metadata": {},
   "outputs": [],
   "source": [
    "def secant(x1,x0,n):\n",
    "    ''' x1 and x0 is the given initial point for xn and x_n-1.\n",
    "        n is a scalar represent the number of iterations\n",
    "    '''\n",
    "    for i in range (n):\n",
    "        if (f1(x1)-f1(x0))==0:\n",
    "            print(f'Done, the points x{i} and x{i-1} are  equal !')\n",
    "            break\n",
    "        x2 =x1 - (f1(x1)*(x1-x0)/(f1(x1)-f1(x0)))\n",
    "        x0 = x1\n",
    "        x1 = x2\n",
    "        print(f'iteration{i+1}:  x{i+1}= {x2}')\n",
    "        \n",
    "        "
   ]
  },
  {
   "cell_type": "code",
   "execution_count": 244,
   "id": "ae2d2dcd",
   "metadata": {
    "scrolled": true
   },
   "outputs": [
    {
     "name": "stdout",
     "output_type": "stream",
     "text": [
      "iteration1:  x1= 0.7363414999625475\n",
      "iteration2:  x2= 0.7390572798218877\n",
      "iteration3:  x3= 0.7390851501135444\n",
      "iteration4:  x4= 0.7390851332150568\n",
      "iteration5:  x5= 0.7390851332151607\n",
      "iteration6:  x6= 0.7390851332151607\n",
      "Done, the points x6 and x5 are  equal !\n"
     ]
    }
   ],
   "source": [
    "secant(0.7861475, 0.5, 10 )\n",
    "#secant(0.7390851332151607, 0.7390851332151607, 10 )"
   ]
  },
  {
   "cell_type": "markdown",
   "id": "2ce64535",
   "metadata": {},
   "source": [
    "#### Remark:\n",
    "* We checked the condition  'if (f1(x1)-f1(x0))==0' in order not to divide by zero. And if we reach this after some iterations, that means we found the root and no more approximations can be caculated :)"
   ]
  },
  {
   "cell_type": "markdown",
   "id": "ad10e40f",
   "metadata": {},
   "source": [
    "# I stoped updating here :) "
   ]
  },
  {
   "cell_type": "code",
   "execution_count": null,
   "id": "d47276e0",
   "metadata": {},
   "outputs": [],
   "source": []
  },
  {
   "cell_type": "markdown",
   "id": "77af6b28",
   "metadata": {},
   "source": [
    "# Fixed point Method\n",
    "\n",
    " * f(x) =0 <=====> x=g(x)\n",
    " * Root of f(x) <====> Fixed point of g(x)."
   ]
  },
  {
   "cell_type": "markdown",
   "id": "c45811ab",
   "metadata": {},
   "source": [
    "#### Algorithm: Fixed-Point Iteration\n",
    "* Find a solution to p = g(p) given an initial approximation p0.\n",
    "* Input: initial approximation p0; tolerance TOL; maximum number of iterations Nmax\n",
    "  * Step 1 Set i = 1;\n",
    "  * Step 2 While ( i <= Nmax) do steps 3-6\n",
    "  * Step 3 Set p = g(p0); \n",
    "  * Step 4 If | p - p0| < TOL then p is approximate solution;STOP;\n",
    "  * Step 5 Set i ++;\n",
    "  * Step 6 Set p0 = p\n",
    "\n"
   ]
  },
  {
   "cell_type": "markdown",
   "id": "35af4c5a",
   "metadata": {},
   "source": [
    "#### example:\n",
    " * Approximate a solution to x^3-x-1 =0 on [1,2] using fixed point iteration.\n",
    " \n",
    " #### Solution:\n",
    " * f(x) = x^3-x-1  and f(1)=-1<0 ,f(2)=6 >0 ----> f(x) has a fixed root in [1,2].\n",
    " * from f(x) we obtained g(x) =x^3 -1 .\n",
    " * lets interval for g(x) that maps the inerval [1,2].\n",
    "   * 1<x<2  , 1<x^3<8 , 0<x^3-1<7 . so, g(x) maps [0,7] and we can find another g(x) that maps the same interval of f(x) [1,2].\n",
    "   * lets try g(x) =cube_root(x+1)\n",
    "   * lets check 1<x<2 , 2<x+1<3 , ....cube_root(2)<cube_root(x+1)<cube_root(3) is in located in the interval [1,2] so, it maps the interval [1,2] starting  with x0=1.\n",
    " * Now finding a fixed point of g(x) is equivalent to finding a root of the original equation.By applying approximations starting with x0=1 according to the algorithm above.\n"
   ]
  },
  {
   "cell_type": "code",
   "execution_count": 113,
   "id": "48b46bbf",
   "metadata": {},
   "outputs": [],
   "source": [
    "def cube_root(x):\n",
    "    if x < 0:\n",
    "        x = abs(x)\n",
    "        cube_root = x**(1/3)*(-1)\n",
    "    else:\n",
    "        cube_root = x**(1/3)\n",
    "    return cube_root\n",
    "    "
   ]
  },
  {
   "cell_type": "code",
   "execution_count": 114,
   "id": "986a2f44",
   "metadata": {},
   "outputs": [],
   "source": [
    "def g(x):\n",
    "    return(cube_root(x+1))"
   ]
  },
  {
   "cell_type": "code",
   "execution_count": 115,
   "id": "677cb438",
   "metadata": {},
   "outputs": [],
   "source": [
    "def fixed_point(p0,n,tol=0.00001):\n",
    "    for i in range(n):\n",
    "        print(f'x{i} = {p0}')\n",
    "        p=g(p0)\n",
    "        if abs(p-p0)<tol: return f'approximation root is {round(p,6)}'\n",
    "        p0=p"
   ]
  },
  {
   "cell_type": "code",
   "execution_count": 116,
   "id": "2f45b879",
   "metadata": {},
   "outputs": [
    {
     "name": "stdout",
     "output_type": "stream",
     "text": [
      "x0 = 1\n",
      "x1 = 1.2599210498948732\n",
      "x2 = 1.3122938366832888\n",
      "x3 = 1.3223538191388249\n",
      "x4 = 1.324268744551578\n",
      "x5 = 1.3246326252509202\n",
      "x6 = 1.3247017485103587\n",
      "x7 = 1.3247148784409506\n"
     ]
    },
    {
     "data": {
      "text/plain": [
       "'approximation root is 1.324717'"
      ]
     },
     "execution_count": 116,
     "metadata": {},
     "output_type": "execute_result"
    }
   ],
   "source": [
    "fixed_point(1,8)"
   ]
  },
  {
   "cell_type": "markdown",
   "id": "afb5e636",
   "metadata": {},
   "source": [
    "#### Another example:\n",
    " * Construct the fixed-point iteration for f(x) based on the fixed point equation: g(x)=(x^2 +1)/3\n",
    " * f(x) =x^3 - x^2 +3x - 1.\n",
    " * the root in [0,1].\n",
    " "
   ]
  },
  {
   "cell_type": "code",
   "execution_count": 120,
   "id": "b0c51cad",
   "metadata": {},
   "outputs": [],
   "source": [
    "def gg(x):\n",
    "    return(x**2+1)/3"
   ]
  },
  {
   "cell_type": "code",
   "execution_count": 121,
   "id": "056e89cf",
   "metadata": {},
   "outputs": [],
   "source": [
    "def fixed_point2(p0,n,tol=0.00001):\n",
    "    for i in range(n):\n",
    "        print(f'x{i} = {p0}')\n",
    "        p=gg(p0)\n",
    "        if abs(p-p0)<tol: return f'appr root is {round(p,6)}'\n",
    "        p0=p"
   ]
  },
  {
   "cell_type": "code",
   "execution_count": 122,
   "id": "30834a85",
   "metadata": {},
   "outputs": [
    {
     "name": "stdout",
     "output_type": "stream",
     "text": [
      "x0 = 0\n",
      "x1 = 0.3333333333333333\n",
      "x2 = 0.3703703703703704\n",
      "x3 = 0.3790580704160951\n",
      "x4 = 0.3812283402491911\n",
      "x5 = 0.38177834913638437\n",
      "x6 = 0.3819182359564343\n",
      "x7 = 0.38195384631869156\n"
     ]
    },
    {
     "data": {
      "text/plain": [
       "'appr root is 0.381963'"
      ]
     },
     "execution_count": 122,
     "metadata": {},
     "output_type": "execute_result"
    }
   ],
   "source": [
    "fixed_point2(0,8)"
   ]
  },
  {
   "cell_type": "markdown",
   "id": "37c31949",
   "metadata": {},
   "source": [
    "# Linear Systems\n",
    " ### To solve: AX = b , There are different  methods:\n",
    "   #### Analytical methods:\n",
    "       * Cramers Rule : Xn = Dn/D       , D !=0\n",
    "       * Gaussian Elimination : convert A into  U (upper matrix) by  a series of row operations.\n",
    "       * LU Factorization/decomposition : A= L * U ---> [L][U]{x}={b} then solve [L]{y}={b} and [U]{x}={y} \n",
    "       * Cholesky Factorization(for symetric sytems) :  A= L*L'  ----> [L][L]'{x} = {b} then solve [L]{y}={b} and [L]'{x}={y}  \n",
    "   #### Basic iterative methods:\n",
    "   * Jacobi iteration method: given initial guess (..,..,..)\n",
    "     * Convert AX = b into a fixed point equation X = CX + d\n",
    "     * Generate a sequence of approximations : Xn+1 = CXn + d (solving for each equation in the system indivisually)\n",
    "   * Gauss-Seidel iteration method:\n",
    "     * Convert AX = b into a fixed point equation X = CX + d\n",
    "     * Generate a sequence of approximations : Xn+1 = CXn + d ( it can use the new values to get other new values i.e:using result of the x_new to find y_new and so one ). \n",
    "   * Jacobi Method (for the system):  to solve the system  AX = b as a whole\n",
    "     * A = M - N\n",
    "     * AX = b\n",
    "     * (M - N)X = b\n",
    "     * MX = NX + b\n",
    "     * M = D and N = -(L + U)\n",
    "     * DX= -(L + U)X + b \n",
    "     * Xn+1 = -D'(L + U)Xn + D' b  (Jacobi iteration equation)\n",
    "   * Gauss-Seidel Method: to solve the system  AX = b as a whole\n",
    "     * A = M - N\n",
    "     * AX = b\n",
    "     * (M - N)X = b\n",
    "     * MX = NX + b\n",
    "     * M = (D+L) and N = - U\n",
    "     * (D+L)X= - UX + b \n",
    "     * Xn+1 = -(D+L)' U Xn + (D+L)' b  ( Gauss-Seidel iteration equation)\n",
    "\n"
   ]
  },
  {
   "cell_type": "markdown",
   "id": "a80bd717",
   "metadata": {},
   "source": [
    "#### Example: Solve the system of equations by Jacobi method.\n",
    "* 27x + 6y - z = 85\n",
    "* 6x + 15y + z = 72\n",
    "* x  + y  + 54z = 110\n",
    "\n",
    "#### Solution:\n",
    " *  First: the  method can be applied only if diagonal elements are dominant.we can test that by code as the followig:\n"
   ]
  },
  {
   "cell_type": "code",
   "execution_count": 123,
   "id": "a46129e3",
   "metadata": {},
   "outputs": [],
   "source": [
    "coef= np.array([[27,6,-1],\n",
    "                [6,15,2],\n",
    "                [1,1,54]\n",
    "               ])\n"
   ]
  },
  {
   "cell_type": "code",
   "execution_count": 124,
   "id": "533174db",
   "metadata": {},
   "outputs": [],
   "source": [
    "def is_dominant(coef,n=3):\n",
    "    dominant =False\n",
    "    for i in range(n):\n",
    "        s=0\n",
    "        for j in range(n):\n",
    "            s+=abs(coef[i,j])\n",
    "        s-=coef[i,i] # to exclude the diagonal element or i i==j\n",
    "        #print(coef[i,i]>s,coef[i,i],s)\n",
    "        dominant=coef[i,i]>s\n",
    "        if(not dominant): return dominant\n",
    "    return dominant        \n",
    "        \n",
    "        \n",
    "        \n"
   ]
  },
  {
   "cell_type": "code",
   "execution_count": 125,
   "id": "d6745a94",
   "metadata": {},
   "outputs": [
    {
     "data": {
      "text/plain": [
       "True"
      ]
     },
     "execution_count": 125,
     "metadata": {},
     "output_type": "execute_result"
    }
   ],
   "source": [
    "is_dominant(coef)"
   ]
  },
  {
   "cell_type": "markdown",
   "id": "c0774a5b",
   "metadata": {},
   "source": [
    "* second we write the equation of the system as a fixed point:\n",
    "  * x=(85-6y+z)/27\n",
    "  * y=(72-6x-2z)/15\n",
    "  * z=(110-x-y)/54"
   ]
  },
  {
   "cell_type": "code",
   "execution_count": null,
   "id": "bdf521bb",
   "metadata": {},
   "outputs": [],
   "source": []
  },
  {
   "cell_type": "code",
   "execution_count": null,
   "id": "98d0689a",
   "metadata": {},
   "outputs": [],
   "source": []
  },
  {
   "cell_type": "markdown",
   "id": "8099c52d",
   "metadata": {},
   "source": [
    "* Third we apply the iterations:"
   ]
  },
  {
   "cell_type": "code",
   "execution_count": 126,
   "id": "f87368af",
   "metadata": {},
   "outputs": [],
   "source": [
    "def get_x_new(y_old,z_old):\n",
    "    return(85-6*y_old+z_old)/27\n",
    "\n",
    "\n",
    "def get_y_new(x_old,z_old):\n",
    "    return (72-6*x_old-2*z_old)/15\n",
    "\n",
    "\n",
    "def get_z_new(x_old, y_old):\n",
    "    return(110-x_old-y_old)/54\n",
    "    \n",
    "    \n",
    "    "
   ]
  },
  {
   "cell_type": "markdown",
   "id": "3d0c904a",
   "metadata": {},
   "source": [
    "* Using the initial guess (x=y=z=0)"
   ]
  },
  {
   "cell_type": "code",
   "execution_count": 128,
   "id": "3014a5c8",
   "metadata": {},
   "outputs": [],
   "source": [
    "def jacobi(x_old,y_old,z_old,n_iterations=6):\n",
    "    print(x_old,y_old,z_old)\n",
    "    for i in range(n_iterations):\n",
    "            x_new=get_x_new(y_old,z_old)\n",
    "            y_new=get_y_new(x_old,z_old)\n",
    "            z_new=get_z_new(x_old,y_old)\n",
    "            print(f'x({i})={x_new}, y({i})={y_new},z({i})={z_new}')\n",
    "            x_old= x_new\n",
    "            y_old= y_new\n",
    "            z_old= z_new\n",
    "            \n",
    "            "
   ]
  },
  {
   "cell_type": "code",
   "execution_count": 129,
   "id": "03814189",
   "metadata": {},
   "outputs": [
    {
     "name": "stdout",
     "output_type": "stream",
     "text": [
      "0 0 0\n",
      "x(0)=3.1481481481481484, y(0)=4.8,z(0)=2.037037037037037\n",
      "x(1)=2.1569272976680387, y(1)=3.269135802469136,z(1)=1.8898491083676268\n",
      "x(2)=2.491667936798252, y(2)=3.685249199817101,z(2)=1.9365543870344968\n",
      "x(3)=2.400928118078959, y(3)=3.5451255736760996,z(3)=1.922649682655271\n",
      "x(4)=2.4315517126147657, y(4)=3.5832754617477134,z(4)=1.9269249316341654\n",
      "x(5)=2.4232323022647364, y(5)=3.5704559907362055,z(5)=1.925651348622917\n",
      "x(6)=2.42603390385947, y(6)=3.5739535659443833,z(6)=1.9260428093888715\n",
      "x(7)=2.4252711634712063, y(7)=3.572780730537696,z(7)=1.9259261579665952\n"
     ]
    }
   ],
   "source": [
    "jacobi(0,0,0,8)"
   ]
  },
  {
   "cell_type": "markdown",
   "id": "e2424d28",
   "metadata": {},
   "source": [
    "#### Example 2: Solve the same question above using gauess-siedl method\n",
    "* The difference is that gauess-siedel use the new calclulted values(i.e: using x_new to find y_new , or x_new and y_new to find z_new )"
   ]
  },
  {
   "cell_type": "code",
   "execution_count": 130,
   "id": "e173501c",
   "metadata": {},
   "outputs": [],
   "source": [
    "def gauss_seidel(x_old,y_old,z_old,n_iterations=6):\n",
    "    print(x_old,y_old,z_old)\n",
    "    for i in range(n_iterations):\n",
    "            x_new=get_x_new(y_old,z_old)\n",
    "            x_old= x_new\n",
    "            y_new=get_y_new(x_old,z_old)\n",
    "            y_old= y_new\n",
    "            z_new=get_z_new(x_old,y_old)\n",
    "            print(f'x({i})={x_new}, y({i})={y_new},z({i})={z_new}')\n",
    "            z_old= z_new"
   ]
  },
  {
   "cell_type": "code",
   "execution_count": 131,
   "id": "3fb998b4",
   "metadata": {},
   "outputs": [
    {
     "name": "stdout",
     "output_type": "stream",
     "text": [
      "0 0 0\n",
      "x(0)=3.1481481481481484, y(0)=3.5407407407407407,z(0)=1.9131687242798352\n",
      "x(1)=2.4321749733272373, y(1)=3.5720408474317935,z(1)=1.925847855171129\n",
      "x(2)=2.4256889915029767, y(2)=3.5729446893759924,z(2)=1.925951228131871\n",
      "x(3)=2.4254919663657746, y(3)=3.5730097163694405,z(3)=1.9259536725419406\n",
      "x(4)=2.4254776064564925, y(4)=3.5730151344118113,z(4)=1.9259538381320684\n",
      "x(5)=2.4254764085800447, y(5)=3.573015591483706,z(5)=1.9259538518506714\n"
     ]
    }
   ],
   "source": [
    "gauss_seidel(0,0,0)"
   ]
  },
  {
   "cell_type": "markdown",
   "id": "2afc620e",
   "metadata": {},
   "source": [
    "* we can notice that gauss-seidl is faster than Jacobi method"
   ]
  },
  {
   "cell_type": "markdown",
   "id": "f5c94d4c",
   "metadata": {},
   "source": [
    "#### Example: Given the linear system of equations Ax=b . Matrix A and vector b is given below. Solve the system with each of Jacobi and Jauss-Seidel methods.\n"
   ]
  },
  {
   "cell_type": "code",
   "execution_count": 132,
   "id": "6997caf8",
   "metadata": {},
   "outputs": [],
   "source": [
    "A=np.array([[4,2,3],\n",
    "            [3,-5,2],\n",
    "            [-2,3,8]\n",
    "           ])\n",
    "b=np.array([8,-14,27])\n"
   ]
  },
  {
   "cell_type": "code",
   "execution_count": 133,
   "id": "f0c188bd",
   "metadata": {},
   "outputs": [
    {
     "data": {
      "text/plain": [
       "array([[ 4,  2,  3],\n",
       "       [ 3, -5,  2],\n",
       "       [-2,  3,  8]])"
      ]
     },
     "execution_count": 133,
     "metadata": {},
     "output_type": "execute_result"
    }
   ],
   "source": [
    "A"
   ]
  },
  {
   "cell_type": "code",
   "execution_count": 134,
   "id": "543d7a4d",
   "metadata": {},
   "outputs": [
    {
     "data": {
      "text/plain": [
       "array([  8, -14,  27])"
      ]
     },
     "execution_count": 134,
     "metadata": {},
     "output_type": "execute_result"
    }
   ],
   "source": [
    "b"
   ]
  },
  {
   "cell_type": "markdown",
   "id": "2b255c48",
   "metadata": {},
   "source": [
    "* we first split A into A=L+D+U "
   ]
  },
  {
   "cell_type": "code",
   "execution_count": 134,
   "id": "55886084",
   "metadata": {},
   "outputs": [
    {
     "data": {
      "text/plain": [
       "array([[ 0,  0,  0],\n",
       "       [ 3,  0,  0],\n",
       "       [-2,  3,  0]])"
      ]
     },
     "execution_count": 134,
     "metadata": {},
     "output_type": "execute_result"
    }
   ],
   "source": [
    "L= A*(np.array([[0,0,0],[1,0,0],[1,1,0]]))\n",
    "L"
   ]
  },
  {
   "cell_type": "code",
   "execution_count": 135,
   "id": "0d7e2f72",
   "metadata": {},
   "outputs": [
    {
     "data": {
      "text/plain": [
       "array([[ 4,  0,  0],\n",
       "       [ 0, -5,  0],\n",
       "       [ 0,  0,  8]])"
      ]
     },
     "execution_count": 135,
     "metadata": {},
     "output_type": "execute_result"
    }
   ],
   "source": [
    "D=A*(np.array([[1,0,0],[0,1,0],[0,0,1]]))\n",
    "D"
   ]
  },
  {
   "cell_type": "code",
   "execution_count": 136,
   "id": "d0d58917",
   "metadata": {},
   "outputs": [
    {
     "data": {
      "text/plain": [
       "array([[0, 2, 3],\n",
       "       [0, 0, 2],\n",
       "       [0, 0, 0]])"
      ]
     },
     "execution_count": 136,
     "metadata": {},
     "output_type": "execute_result"
    }
   ],
   "source": [
    "U=A*(np.array([[0,1,1],[0,0,1],[0,0,0]]))\n",
    "U"
   ]
  },
  {
   "cell_type": "markdown",
   "id": "9ab2f042",
   "metadata": {},
   "source": [
    " #####  For Jacobi the iteration equation is: Xn+1 = -D'(L + U)Xn + D' b  "
   ]
  },
  {
   "cell_type": "markdown",
   "id": "08092caf",
   "metadata": {},
   "source": [
    "* lets take zero initial values   for x,y,z  "
   ]
  },
  {
   "cell_type": "code",
   "execution_count": 139,
   "id": "377da305",
   "metadata": {},
   "outputs": [
    {
     "data": {
      "text/plain": [
       "array([0, 0, 0])"
      ]
     },
     "execution_count": 139,
     "metadata": {},
     "output_type": "execute_result"
    }
   ],
   "source": [
    "x_y_z=np.array([0,0,0])\n",
    "x_y_z"
   ]
  },
  {
   "cell_type": "code",
   "execution_count": 143,
   "id": "c12e141c",
   "metadata": {},
   "outputs": [
    {
     "data": {
      "text/plain": [
       "array([[ 0.25 ,  0.   ,  0.   ],\n",
       "       [-0.   , -0.2  , -0.   ],\n",
       "       [ 0.   ,  0.   ,  0.125]])"
      ]
     },
     "execution_count": 143,
     "metadata": {},
     "output_type": "execute_result"
    }
   ],
   "source": [
    "D_inv=(np.linalg.inv(D))\n",
    "D_inv"
   ]
  },
  {
   "cell_type": "code",
   "execution_count": 160,
   "id": "488e492c",
   "metadata": {},
   "outputs": [
    {
     "name": "stdout",
     "output_type": "stream",
     "text": [
      "(x,y,z)0 = [0 0 0]\n",
      "(x,y,z)1 = [2.    2.8   3.375]\n",
      "(x,y,z)2 = [-1.93125  5.35     2.825  ]\n",
      "(x,y,z)3 = [-2.79375    2.77125    0.8859375]\n"
     ]
    }
   ],
   "source": [
    "x_y_z=np.array([0,0,0])\n",
    "for i in range(4):\n",
    "    print(f'(x,y,z){i} = {x_y_z}')\n",
    "    x_y_z_new=-1*(D_inv@(L+U)@x_y_z) + D_inv@b\n",
    "    x_y_z=x_y_z_new"
   ]
  },
  {
   "cell_type": "markdown",
   "id": "b79d6fea",
   "metadata": {},
   "source": [
    "##### For   Gauss-Seidel iteration equation: Xn+1 = -(D+L)' U Xn + (D+L)' b "
   ]
  },
  {
   "cell_type": "code",
   "execution_count": 165,
   "id": "361de212",
   "metadata": {},
   "outputs": [
    {
     "data": {
      "text/plain": [
       "array([[ 0.25   ,  0.     ,  0.     ],\n",
       "       [ 0.15   , -0.2    , -0.     ],\n",
       "       [ 0.00625,  0.075  ,  0.125  ]])"
      ]
     },
     "execution_count": 165,
     "metadata": {},
     "output_type": "execute_result"
    }
   ],
   "source": [
    "DL_inv=np.linalg.inv((D+L))\n",
    "DL_inv\n"
   ]
  },
  {
   "cell_type": "code",
   "execution_count": 166,
   "id": "e322cc52",
   "metadata": {},
   "outputs": [
    {
     "name": "stdout",
     "output_type": "stream",
     "text": [
      "(x,y,z)0 = [0 0 0]\n",
      "(x,y,z)1 = [2.    4.    2.375]\n",
      "(x,y,z)2 = [-1.78125     2.68125     1.92421875]\n",
      "(x,y,z)3 = [-0.78378906  3.09941406  2.01677246]\n"
     ]
    }
   ],
   "source": [
    "x_y_z=np.array([0,0,0])\n",
    "for i in range(4):\n",
    "    print(f'(x,y,z){i} = {x_y_z}')\n",
    "    x_y_z_new=-1*(DL_inv@U@x_y_z)+DL_inv@b\n",
    "    x_y_z=x_y_z_new"
   ]
  },
  {
   "cell_type": "code",
   "execution_count": null,
   "id": "8cd7132f",
   "metadata": {},
   "outputs": [],
   "source": []
  },
  {
   "cell_type": "markdown",
   "id": "d7d56f74",
   "metadata": {},
   "source": [
    "* Note: To solve Ax=b. When matrix A is not square, so can’t be invertible. However, we can find the least-squares vector x= (AT * A)' *(AT * y)"
   ]
  },
  {
   "cell_type": "markdown",
   "id": "f30d68f8",
   "metadata": {},
   "source": [
    "# Least-squares approximation"
   ]
  },
  {
   "cell_type": "markdown",
   "id": "e7811c34",
   "metadata": {},
   "source": [
    "* A linear equation system ofnunknowns andmequations is over-determined ifm > n. In general, an over-determined system has no solution, but we may find an approximate solution by minimizing some norm of the residual vector\n",
    "* examples of using least squares sultions are: some prolblems such as  data fiting in linear models and quadratic fitting.\n",
    "* We just focus on obtaining the least-squares solution when we are given an over-determined or underdetermined system of equations Ax =y.\n",
    "* we use the normal equation to solve by leas squares: ( AT * Ax = AT * y   is the normal equation) AT=traspose of A. \n",
    "* then find x= (AT * A)' *(AT * y)"
   ]
  },
  {
   "cell_type": "markdown",
   "id": "d377cfe2",
   "metadata": {},
   "source": [
    "* Example: Find the best least squares fit by a linear function to the following data: \n",
    " x = [6.8,7 ,7.1, 7.2, 7.4], y = [0.8, 1.2 , 0.9 , 0.9, 1.5] \n",
    " \n",
    " * Solution: we write the system as : Ax=y \n",
    " * here A is the inputs, x is the unkonwns coeficients and y is the target, the purpose is to find the coeficeints(a0 and a1 ) of x that produce y.  (a0+a1xi =y)\n",
    " * the equation(a0 + a1xi =y) for each input of x can be writen as :\n",
    "   *  𝒂𝟏𝒙𝟏 + 𝒂𝟎  = 𝒚1\n",
    "   *  𝒂𝟏𝒙2 + 𝒂𝟎  = 𝒚2\n",
    "   *  𝒂𝟏𝒙3 + 𝒂𝟎  = 𝒚3\n",
    "   *  𝒂𝟏𝒙4 + 𝒂𝟎  = 𝒚4\n",
    "   *  𝒂𝟏𝒙5 + 𝒂𝟎  = 𝒚5\n",
    " * we can write them in matrix representation Ax= y as the following:\n",
    "   * [x1   ,  1\n",
    "   *  x2   ,  1\n",
    "   *  ..... ..... * [ a1  a0]'   = [y1 ......y5] \n",
    "   * x5    ,  1]  \n",
    "   \n",
    "     \n",
    " \n",
    " "
   ]
  },
  {
   "cell_type": "code",
   "execution_count": 135,
   "id": "2822f2bf",
   "metadata": {},
   "outputs": [],
   "source": [
    "import numpy as np"
   ]
  },
  {
   "cell_type": "code",
   "execution_count": 136,
   "id": "18f0cfb0",
   "metadata": {},
   "outputs": [
    {
     "data": {
      "text/plain": [
       "array([[6.8, 1. ],\n",
       "       [7. , 1. ],\n",
       "       [7.1, 1. ],\n",
       "       [7.2, 1. ],\n",
       "       [7.4, 1. ]])"
      ]
     },
     "execution_count": 136,
     "metadata": {},
     "output_type": "execute_result"
    }
   ],
   "source": [
    "A=np.array([[6.8,7 ,7.1, 7.2, 7.4],\n",
    "             [1, 1,  1,   1,   1]]).transpose()\n",
    "A"
   ]
  },
  {
   "cell_type": "code",
   "execution_count": 31,
   "id": "fd7c6692",
   "metadata": {},
   "outputs": [
    {
     "data": {
      "text/plain": [
       "(5, 2)"
      ]
     },
     "execution_count": 31,
     "metadata": {},
     "output_type": "execute_result"
    }
   ],
   "source": [
    "A.shape"
   ]
  },
  {
   "cell_type": "code",
   "execution_count": 164,
   "id": "3a4ba085",
   "metadata": {},
   "outputs": [
    {
     "data": {
      "text/plain": [
       "['a1', 'a0']"
      ]
     },
     "execution_count": 164,
     "metadata": {},
     "output_type": "execute_result"
    }
   ],
   "source": [
    "['a1',\n",
    "'a0'] # this  what we should solve fro the system Ax = y  :) \n"
   ]
  },
  {
   "cell_type": "code",
   "execution_count": 140,
   "id": "ac1d5676",
   "metadata": {},
   "outputs": [
    {
     "data": {
      "text/plain": [
       "array([0.8, 1.2, 0.9, 0.9, 1.5])"
      ]
     },
     "execution_count": 140,
     "metadata": {},
     "output_type": "execute_result"
    }
   ],
   "source": [
    "y=np.array([0.8, 1.2 , 0.9 , 0.9, 1.5])\n",
    "y"
   ]
  },
  {
   "cell_type": "code",
   "execution_count": 141,
   "id": "bea91218",
   "metadata": {},
   "outputs": [
    {
     "data": {
      "text/plain": [
       "(5,)"
      ]
     },
     "execution_count": 141,
     "metadata": {},
     "output_type": "execute_result"
    }
   ],
   "source": [
    "y.shape"
   ]
  },
  {
   "cell_type": "markdown",
   "id": "212caa69",
   "metadata": {},
   "source": [
    "* lets use the normal equation to find x from the quatin system Ax=b.\n",
    "* the normal equation is: AT * Ax = AT * y\n",
    "* to find x = (AT * A )' * (AT * y)"
   ]
  },
  {
   "cell_type": "code",
   "execution_count": 142,
   "id": "4984ae2f",
   "metadata": {},
   "outputs": [
    {
     "data": {
      "text/plain": [
       "array([[6.8, 7. , 7.1, 7.2, 7.4],\n",
       "       [1. , 1. , 1. , 1. , 1. ]])"
      ]
     },
     "execution_count": 142,
     "metadata": {},
     "output_type": "execute_result"
    }
   ],
   "source": [
    "AT= A.transpose()\n",
    "AT"
   ]
  },
  {
   "cell_type": "code",
   "execution_count": 143,
   "id": "a4be51d9",
   "metadata": {},
   "outputs": [
    {
     "data": {
      "text/plain": [
       "array([[252.25,  35.5 ],\n",
       "       [ 35.5 ,   5.  ]])"
      ]
     },
     "execution_count": 143,
     "metadata": {},
     "output_type": "execute_result"
    }
   ],
   "source": [
    "AT@A"
   ]
  },
  {
   "cell_type": "code",
   "execution_count": 144,
   "id": "c916fa5a",
   "metadata": {},
   "outputs": [
    {
     "data": {
      "text/plain": [
       "array([37.81,  5.3 ])"
      ]
     },
     "execution_count": 144,
     "metadata": {},
     "output_type": "execute_result"
    }
   ],
   "source": [
    "AT@y"
   ]
  },
  {
   "cell_type": "code",
   "execution_count": 147,
   "id": "93e1ee49",
   "metadata": {},
   "outputs": [
    {
     "data": {
      "text/plain": [
       "'a1 = 0.900000000000091, a0= -5.330000000000837'"
      ]
     },
     "execution_count": 147,
     "metadata": {},
     "output_type": "execute_result"
    }
   ],
   "source": [
    "a1,a0= np.linalg.inv((AT@A)) @ (AT @ y)\n",
    "f'a1 = {a1}, a0= {a0}'"
   ]
  },
  {
   "cell_type": "markdown",
   "id": "16a85cee",
   "metadata": {},
   "source": [
    "* The answer is: a1 = 0.9 and a0 = -5.33 \n",
    "* So, the best fit line is: 0.9x -5.33 =y\n",
    "\n",
    "* lets test some values of the inputs x = [6.8,7 ,7.1, 7.2, 7.4] and predict the output y_p and compare it with actual y :)"
   ]
  },
  {
   "cell_type": "code",
   "execution_count": 149,
   "id": "b11ad08c",
   "metadata": {},
   "outputs": [
    {
     "name": "stdout",
     "output_type": "stream",
     "text": [
      "[0.79, 0.9699999999999998, 1.0599999999999996, 1.1500000000000004, 1.33]\n"
     ]
    }
   ],
   "source": [
    "inputs = [6.8,7 ,7.1, 7.2, 7.4]\n",
    "y_p=[]\n",
    "for value in inputs:\n",
    "    y_p.append((0.9 * value -5.33))\n",
    "\n",
    "print(y_p)\n"
   ]
  },
  {
   "cell_type": "markdown",
   "id": "69304a05",
   "metadata": {},
   "source": [
    "* lets see the difference between actual values y and predicted values y_p "
   ]
  },
  {
   "cell_type": "code",
   "execution_count": 151,
   "id": "9931b68f",
   "metadata": {},
   "outputs": [
    {
     "name": "stdout",
     "output_type": "stream",
     "text": [
      "y= [0.8 1.2 0.9 0.9 1.5]\n",
      "y_p= [0.79, 0.9699999999999998, 1.0599999999999996, 1.1500000000000004, 1.33]\n"
     ]
    }
   ],
   "source": [
    "print(f'y= {y}')\n",
    "print(f'y_p= {y_p}')"
   ]
  },
  {
   "cell_type": "markdown",
   "id": "2bf28ced",
   "metadata": {},
   "source": [
    "* lets visulize and look at the line fit "
   ]
  },
  {
   "cell_type": "code",
   "execution_count": 152,
   "id": "b3ccbab5",
   "metadata": {},
   "outputs": [],
   "source": [
    "import matplotlib.pyplot as plt"
   ]
  },
  {
   "cell_type": "code",
   "execution_count": 72,
   "id": "b8d701d8",
   "metadata": {},
   "outputs": [
    {
     "data": {
      "image/png": "[encoded data removed]",
      "text/plain": [
       "<Figure size 432x288 with 1 Axes>"
      ]
     },
     "metadata": {
      "needs_background": "light"
     },
     "output_type": "display_data"
    }
   ],
   "source": [
    "x = [6.8,7 ,7.1, 7.2, 7.4,10] # the inputs values, we add big input value 10 to predict it by 0.9 *10 -5.33 =3.67 :) \n",
    "y= [0.8, 1.2, 0.9, 0.9, 1.5,3.67] \n",
    "y_p= [0.79, 0.9699999999999998, 1.0599999999999996, 1.1500000000000004, 1.33,3.67]\n",
    "plt.plot(x,y,'ro')\n",
    "plt.plot(x,y_p,'b-');"
   ]
  },
  {
   "cell_type": "code",
   "execution_count": 68,
   "id": "5cb6391f",
   "metadata": {},
   "outputs": [
    {
     "data": {
      "text/plain": [
       "3.67"
      ]
     },
     "execution_count": 68,
     "metadata": {},
     "output_type": "execute_result"
    }
   ],
   "source": [
    "0.9 * 10 -5.33"
   ]
  },
  {
   "cell_type": "markdown",
   "id": "e4ed2a1b",
   "metadata": {},
   "source": [
    "## Example 2:  least-squares: (quadratic fitting)\n",
    "* Find the best least squares fit by a quadratic function to the following data: x=[0 1 2 3 4 5 6]; y=[1.5 0.3 -0.85 -0.1 1.9 4.3 8.0]\n",
    "* find the quadratic function y=a2*x^2 +a1*x + a0 \" closest\" to the data points.\n",
    "* our goal is to find the coeficients values (a2,a1 and a0).\n",
    "* The answer is by \n",
    "    "
   ]
  },
  {
   "cell_type": "code",
   "execution_count": 153,
   "id": "aa7d2a72",
   "metadata": {},
   "outputs": [],
   "source": [
    "inputs=np.array([0, 1, 2, 3, 4, 5, 6])\n",
    "outputs=np.array([1.5, 0.3, -0.85, -0.1, 1.9, 4.3, 8.0])\n"
   ]
  },
  {
   "cell_type": "code",
   "execution_count": 154,
   "id": "ffc6d58c",
   "metadata": {},
   "outputs": [
    {
     "data": {
      "image/png": "[encoded data removed]",
      "text/plain": [
       "<Figure size 432x288 with 1 Axes>"
      ]
     },
     "metadata": {
      "needs_background": "light"
     },
     "output_type": "display_data"
    }
   ],
   "source": [
    "plt.plot(inputs,outputs,'ro');"
   ]
  },
  {
   "cell_type": "markdown",
   "id": "96954ae2",
   "metadata": {},
   "source": [
    "* form the data we have:\n",
    "* ....\n",
    "* a2xi^2 +a1xi + a0 = y\n",
    "* ....\n",
    "\n",
    "* we can  write it as matrix system Ax = y , where x (a2,a1 and a0)  is the unknows that we have to solve"
   ]
  },
  {
   "cell_type": "code",
   "execution_count": 155,
   "id": "793d24d5",
   "metadata": {},
   "outputs": [
    {
     "name": "stdout",
     "output_type": "stream",
     "text": [
      "[0 1 2 3 4 5 6]\n",
      "[ 1.5   0.3  -0.85 -0.1   1.9   4.3   8.  ]\n"
     ]
    }
   ],
   "source": [
    "print(inputs)\n",
    "print(outputs)"
   ]
  },
  {
   "cell_type": "code",
   "execution_count": 156,
   "id": "3d92d432",
   "metadata": {},
   "outputs": [
    {
     "data": {
      "text/plain": [
       "array([[ 0.,  0.,  1.],\n",
       "       [ 1.,  1.,  1.],\n",
       "       [ 4.,  2.,  1.],\n",
       "       [ 9.,  3.,  1.],\n",
       "       [16.,  4.,  1.],\n",
       "       [25.,  5.,  1.],\n",
       "       [36.,  6.,  1.]])"
      ]
     },
     "execution_count": 156,
     "metadata": {},
     "output_type": "execute_result"
    }
   ],
   "source": [
    "A=np.array([inputs**2,inputs,np.ones(7)]).transpose()\n",
    "A"
   ]
  },
  {
   "cell_type": "code",
   "execution_count": 162,
   "id": "7d10e3cb",
   "metadata": {},
   "outputs": [
    {
     "data": {
      "text/plain": [
       "['a2', 'a1', 'a0']"
      ]
     },
     "execution_count": 162,
     "metadata": {},
     "output_type": "execute_result"
    }
   ],
   "source": [
    "['a2', 'a1' , 'a0'] # are the  unknows to find :)"
   ]
  },
  {
   "cell_type": "code",
   "execution_count": 165,
   "id": "4eae0fa4",
   "metadata": {},
   "outputs": [
    {
     "data": {
      "text/plain": [
       "array([ 1.5 ,  0.3 , -0.85, -0.1 ,  1.9 ,  4.3 ,  8.  ])"
      ]
     },
     "execution_count": 165,
     "metadata": {},
     "output_type": "execute_result"
    }
   ],
   "source": [
    "y=outputs\n",
    "y"
   ]
  },
  {
   "cell_type": "markdown",
   "id": "63758e4c",
   "metadata": {},
   "source": [
    "* lets compute x =(AT * A)' * (AT * y)"
   ]
  },
  {
   "cell_type": "code",
   "execution_count": 166,
   "id": "4945b66c",
   "metadata": {},
   "outputs": [
    {
     "data": {
      "text/plain": [
       "array([[ 0.,  1.,  4.,  9., 16., 25., 36.],\n",
       "       [ 0.,  1.,  2.,  3.,  4.,  5.,  6.],\n",
       "       [ 1.,  1.,  1.,  1.,  1.,  1.,  1.]])"
      ]
     },
     "execution_count": 166,
     "metadata": {},
     "output_type": "execute_result"
    }
   ],
   "source": [
    "AT=A.transpose()\n",
    "AT"
   ]
  },
  {
   "cell_type": "code",
   "execution_count": 167,
   "id": "b5a6733d",
   "metadata": {},
   "outputs": [
    {
     "data": {
      "text/plain": [
       "array([ 0.5327381 , -2.11607143,  1.57261905])"
      ]
     },
     "execution_count": 167,
     "metadata": {},
     "output_type": "execute_result"
    }
   ],
   "source": [
    "x=np.linalg.inv(AT@A)@(AT@y)\n",
    "x"
   ]
  },
  {
   "cell_type": "code",
   "execution_count": 168,
   "id": "0d5aa09c",
   "metadata": {},
   "outputs": [
    {
     "name": "stdout",
     "output_type": "stream",
     "text": [
      "a2= 0.5327380952380945, a1= -2.1160714285714226, a0 =1.5726190476190354 \n"
     ]
    }
   ],
   "source": [
    "a2,a1,a0 = x\n",
    "print(f'a2= {a2}, a1= {a1}, a0 ={a0} ')"
   ]
  },
  {
   "cell_type": "markdown",
   "id": "882500da",
   "metadata": {},
   "source": [
    "* The equation for  best least squares fit is : a2x^2 +a1x + a0 ====> 0.53 x^2 - 2.11 x + 1.57"
   ]
  },
  {
   "cell_type": "markdown",
   "id": "58bedc50",
   "metadata": {},
   "source": [
    "* lets visulize that:"
   ]
  },
  {
   "cell_type": "code",
   "execution_count": 170,
   "id": "2fa0c16e",
   "metadata": {},
   "outputs": [],
   "source": [
    "def best_sqr_fit(x):\n",
    "    l=[]\n",
    "    for value in x:\n",
    "        l.append((0.5327*(value**2) - 2.1161*value + 1.5726 )) \n",
    "    return l\n"
   ]
  },
  {
   "cell_type": "code",
   "execution_count": 171,
   "id": "20968366",
   "metadata": {},
   "outputs": [
    {
     "data": {
      "image/png": "[encoded data removed]",
      "text/plain": [
       "<Figure size 432x288 with 1 Axes>"
      ]
     },
     "metadata": {
      "needs_background": "light"
     },
     "output_type": "display_data"
    }
   ],
   "source": [
    "plt.plot(inputs,outputs,'ro') # the original \n",
    "plt.plot(inputs,best_sqr_fit(inputs),'b-'); # the best fit to the original "
   ]
  },
  {
   "cell_type": "code",
   "execution_count": 172,
   "id": "bc125563",
   "metadata": {},
   "outputs": [
    {
     "name": "stdout",
     "output_type": "stream",
     "text": [
      "[1.5726, -0.01079999999999992, -0.5287999999999999, 0.018599999999999728, 1.6313999999999997, 4.3096, 8.053199999999999]\n"
     ]
    }
   ],
   "source": [
    "print(best_sqr_fit(inputs))"
   ]
  },
  {
   "cell_type": "code",
   "execution_count": null,
   "id": "23d23855",
   "metadata": {},
   "outputs": [],
   "source": []
  },
  {
   "cell_type": "code",
   "execution_count": 173,
   "id": "bd1aa078",
   "metadata": {},
   "outputs": [
    {
     "data": {
      "text/plain": [
       "array([2.9, 1.8])"
      ]
     },
     "execution_count": 173,
     "metadata": {},
     "output_type": "execute_result"
    }
   ],
   "source": [
    "np.linalg.inv(np.array([[6,2],\n",
    "                        [2,4]\n",
    "                       ])) @ (np.array([21,13]))"
   ]
  },
  {
   "cell_type": "markdown",
   "id": "78f34a0f",
   "metadata": {},
   "source": [
    "# Interpolation\n",
    "* Given a set of points (xi, yi = f(xi for i = 0, 1, 2, ..., n, \n",
    "* we want to find a function (usually a polynomial) which passes through all of the points. \n",
    "* The interpolation can be used to estimate the values of points between those points"
   ]
  },
  {
   "cell_type": "markdown",
   "id": "718d2a03",
   "metadata": {},
   "source": [
    "## Newton Linear Interpolation\n",
    "* Start with linear interpolation: (x0, y0), (x1, y1 need two points )\n",
    "* f1(x) = b0 + b1(x - x0) \n",
    "* the task is to find the coef b0 and b1\n",
    "* Set x = x0 ===> b0 = f(x0)\n",
    "* Set x = x1 ===> b1= (f(x1)-f(x0)) / (x1-x0)\n"
   ]
  },
  {
   "cell_type": "markdown",
   "id": "695437b0",
   "metadata": {},
   "source": [
    "### Newton Quadratic  Interpolation\n",
    "* Quadratic interpolation – need three points x0(, y0), (x1, y1), (x2, y2)\n",
    "* f2(x)=b0 + b1(x - x0) + b2(x - x0)(x - x1)\n",
    "###### To get the coefficients b’s :\n",
    "* Set x = x0,  ====>  b0 = f(x0)\n",
    "* Use b0 and set x = x1 to get b1\n",
    "* b1= (f(x1)-f(x0)) / (x1-x0)\n",
    "* b2 = ( ((f(x2)-f(x1))/(x2-x1)) - ((f(x1)-f(x0))/(x1-x0)) / ( x2 - x0 )  \n",
    "\n"
   ]
  },
  {
   "cell_type": "markdown",
   "id": "e952cadd",
   "metadata": {},
   "source": [
    "### Example: \n",
    "* Construct the Newton interpolating polynomial of degree 2for the following points and approximate the function at x = 2.\n",
    "* where x = (1,4,6)  and f(x) = (0  ,  1.386294  ,  1.791759)\n",
    "\n",
    "### Solution:\n"
   ]
  },
  {
   "cell_type": "code",
   "execution_count": 174,
   "id": "c5b1b0cd",
   "metadata": {},
   "outputs": [],
   "source": [
    "import numpy as np"
   ]
  },
  {
   "cell_type": "code",
   "execution_count": 175,
   "id": "e78193c6",
   "metadata": {},
   "outputs": [
    {
     "data": {
      "text/plain": [
       "array([1, 4, 6])"
      ]
     },
     "execution_count": 175,
     "metadata": {},
     "output_type": "execute_result"
    }
   ],
   "source": [
    "x= np.array( [1,4,6])\n",
    "x"
   ]
  },
  {
   "cell_type": "code",
   "execution_count": 176,
   "id": "9d352c68",
   "metadata": {},
   "outputs": [
    {
     "data": {
      "text/plain": [
       "array([0.      , 1.386294, 1.791759])"
      ]
     },
     "execution_count": 176,
     "metadata": {},
     "output_type": "execute_result"
    }
   ],
   "source": [
    "f_x = np.array([0 , 1.386294 , 1.791759])\n",
    "f_x"
   ]
  },
  {
   "cell_type": "code",
   "execution_count": 177,
   "id": "771176a5",
   "metadata": {},
   "outputs": [
    {
     "data": {
      "text/plain": [
       "0.0"
      ]
     },
     "execution_count": 177,
     "metadata": {},
     "output_type": "execute_result"
    }
   ],
   "source": [
    "b0=f_x[0]\n",
    "b0"
   ]
  },
  {
   "cell_type": "code",
   "execution_count": 178,
   "id": "36f6c9f8",
   "metadata": {},
   "outputs": [
    {
     "data": {
      "text/plain": [
       "0.46209799999999995"
      ]
     },
     "execution_count": 178,
     "metadata": {},
     "output_type": "execute_result"
    }
   ],
   "source": [
    "b1= (f_x[1]-f_x[0]) / (x[1]-x[0])\n",
    "b1"
   ]
  },
  {
   "cell_type": "code",
   "execution_count": 184,
   "id": "2492ad00",
   "metadata": {},
   "outputs": [
    {
     "data": {
      "text/plain": [
       "-0.05187309999999997"
      ]
     },
     "execution_count": 184,
     "metadata": {},
     "output_type": "execute_result"
    }
   ],
   "source": [
    "b2 =  ( ((f_x[2]-f_x[1])/(x[2]-x[1])) - b1) / ( x[2] - x[0] )\n",
    "b2\n"
   ]
  },
  {
   "cell_type": "code",
   "execution_count": 186,
   "id": "6a7baede",
   "metadata": {},
   "outputs": [
    {
     "name": "stdout",
     "output_type": "stream",
     "text": [
      "b0 = 0.0,   b1= 0.46209799999999995,   b2=-0.05187309999999997\n"
     ]
    }
   ],
   "source": [
    "print(f'b0 = {b0},   b1= {b1},   b2={b2}')"
   ]
  },
  {
   "cell_type": "markdown",
   "id": "6a9b9621",
   "metadata": {},
   "source": [
    "* We have   F2(x)=b0 + b1(x - x0) + b2(x - x0)(x - x1)  \n",
    "* So,    F2(x)=0 + 0.4620981(x - 1) - 0.051873(x - 1)(x - 4)"
   ]
  },
  {
   "cell_type": "markdown",
   "id": "116f6372",
   "metadata": {},
   "source": [
    "* To approximate the function at x = 2 , will calculate F2(2) as the following:"
   ]
  },
  {
   "cell_type": "code",
   "execution_count": 189,
   "id": "9a49baa8",
   "metadata": {},
   "outputs": [],
   "source": [
    "def F2(x):\n",
    "    return(   0.4620981 * (x - 1) - 0.051873 * (x - 1) * (x - 4)  )"
   ]
  },
  {
   "cell_type": "code",
   "execution_count": 190,
   "id": "00825b91",
   "metadata": {},
   "outputs": [
    {
     "data": {
      "text/plain": [
       "0.5658441000000001"
      ]
     },
     "execution_count": 190,
     "metadata": {},
     "output_type": "execute_result"
    }
   ],
   "source": [
    "F2(2)"
   ]
  },
  {
   "cell_type": "markdown",
   "id": "6aede802",
   "metadata": {},
   "source": [
    "* we can use F2(x) to calclualte any value for x:\n"
   ]
  },
  {
   "cell_type": "code",
   "execution_count": 191,
   "id": "38517400",
   "metadata": {},
   "outputs": [
    {
     "data": {
      "text/plain": [
       "1.3862943"
      ]
     },
     "execution_count": 191,
     "metadata": {},
     "output_type": "execute_result"
    }
   ],
   "source": [
    "F2(4)"
   ]
  },
  {
   "cell_type": "code",
   "execution_count": 193,
   "id": "d31173ed",
   "metadata": {},
   "outputs": [
    {
     "data": {
      "text/plain": [
       "1.8388746"
      ]
     },
     "execution_count": 193,
     "metadata": {},
     "output_type": "execute_result"
    }
   ],
   "source": [
    "F2(7)"
   ]
  },
  {
   "cell_type": "markdown",
   "id": "52f9c569",
   "metadata": {},
   "source": [
    "* lets visulize our interpolation "
   ]
  },
  {
   "cell_type": "code",
   "execution_count": 197,
   "id": "70d7cad7",
   "metadata": {},
   "outputs": [],
   "source": [
    "import matplotlib.pyplot as plt\n"
   ]
  },
  {
   "cell_type": "code",
   "execution_count": 198,
   "id": "1c614f42",
   "metadata": {},
   "outputs": [
    {
     "data": {
      "image/png": "[encoded data removed]",
      "text/plain": [
       "<Figure size 432x288 with 1 Axes>"
      ]
     },
     "metadata": {
      "needs_background": "light"
     },
     "output_type": "display_data"
    }
   ],
   "source": [
    "# first we will visulize the given data x and f(x)\n",
    "plt.plot(x ,f_x ,'ro');"
   ]
  },
  {
   "cell_type": "code",
   "execution_count": 210,
   "id": "a038b5ed",
   "metadata": {},
   "outputs": [
    {
     "data": {
      "image/png": "[encoded data removed]",
      "text/plain": [
       "<Figure size 432x288 with 1 Axes>"
      ]
     },
     "metadata": {
      "needs_background": "light"
     },
     "output_type": "display_data"
    }
   ],
   "source": [
    "# we can interpolate/ predict some points i.e: f(0),f(2),f(3) , f(5)  and f(7) \n",
    "x_new = np.array([0,2,3,5,7])\n",
    "f_x_new=[]\n",
    "for val in (x_new):\n",
    "    f_x_new.append(F2(val))\n",
    "\n",
    "f_x_new =np.array(f_x_new)\n",
    "plt.plot(x ,f_x ,'ro');\n",
    "plt.plot(x_new ,f_x_new ,'bo');"
   ]
  },
  {
   "cell_type": "markdown",
   "id": "595110dc",
   "metadata": {},
   "source": [
    "## Lagrange Interpolating Polynomials\n",
    "\n",
    "* Give the same result as the Newton’s polynomials, but different approach.\n",
    "#### 1st-order Lagrange polynomial:  2 points (x0, f(x0) ) , (x1, f(x1) )\n",
    "* L1(x) = ((x-x1)/(x0-x1))f(x0) + ((x-x0)/(x1-x0))f(x1)\n",
    "#### 2nd-order Lagrange polynomial:  3 points (x0, f(x0) ) , (x1, f(x1) ), (x2, f(x2) ) \n",
    "* L2(x)= ((x-x1)(x-x2)/(x0-x1)(x0-x2))f(x0) + (x-x0)(x-x2)/(x1-x0)(x1-x2))f(x1) + (x-x0)(x-x1)/(x2-x0)(x2-x1))f(x0)\n",
    "* ... or it can be writen as L2(x)= l0(x)f(x0)+l1(x)f(x1)+l2(x)f(x2) and:\n",
    "   *    l0(x) = ((x-x1)(x-x2)/(x0-x1)(x0-x2))\n",
    "   *    l1(x) = ((x-x0)(x-x2)/(x1-x0)(x1-x2))\n",
    "   *    l2(x) = ((x-x0)(x-x1)/(x2-x0)(x2-x1))\n",
    "\n",
    "###### and so on for L3(x), .... ,Ln(x)"
   ]
  },
  {
   "cell_type": "markdown",
   "id": "2a74d645",
   "metadata": {},
   "source": [
    "### Example:\n",
    "* Find the Lagrange Interpolating Polynomial using the three given points.\n",
    "* x= (0.5 ,  1  , 2.25  )   \n",
    "* f(x) = ( -3.225  , -1.225  , 1.375 )\n",
    "* calculate f(2) \n",
    "\n",
    "### Solution\n",
    "* We have 3 points, so the Lagrange polynomial will be of degree 2. The Lagrange interpolating polynomial is:\n",
    "* L2(x)= l0(x)f(x0)+l1(x)f(x1)+l2(x)f(x2)\n",
    "   *    l0(x) = ((x-x1)(x-x2)/(x0-x1)(x0-x2))\n",
    "   *    l1(x) = ((x-x0)(x-x2)/(x1-x0)(x1-x2))\n",
    "   *    l2(x) = ((x-x0)(x-x1)/(x2-x0)(x2-x1))\n"
   ]
  },
  {
   "cell_type": "code",
   "execution_count": 217,
   "id": "8677e024",
   "metadata": {},
   "outputs": [
    {
     "data": {
      "text/plain": [
       "array([0.5 , 1.  , 2.25])"
      ]
     },
     "execution_count": 217,
     "metadata": {},
     "output_type": "execute_result"
    }
   ],
   "source": [
    "X=np.array([0.5 , 1 , 2.25 ])\n",
    "X"
   ]
  },
  {
   "cell_type": "code",
   "execution_count": 218,
   "id": "f0333519",
   "metadata": {},
   "outputs": [
    {
     "data": {
      "text/plain": [
       "array([-3.225, -1.225,  1.375])"
      ]
     },
     "execution_count": 218,
     "metadata": {},
     "output_type": "execute_result"
    }
   ],
   "source": [
    "f_x =np.array([-3.225 , -1.225 , 1.375])\n",
    "f_x"
   ]
  },
  {
   "cell_type": "code",
   "execution_count": 221,
   "id": "86c3739c",
   "metadata": {},
   "outputs": [],
   "source": [
    "\n",
    "def l0(x):\n",
    "     return (  ((x-X[1])*(x-X[2])) /((X[0]-X[1])*(X[0]-X[2]))   )\n",
    "\n",
    "def l1(x):\n",
    "    return ( ((x-X[0])  *  (x-X[2]) ) /((X[1]-X[0])*(X[1]-X[2]))  )\n",
    "\n",
    "    \n",
    "def l2(x):\n",
    "    return (  ( (x-X[0])*(x-X[1])) /((X[2]-X[0])*(X[2]-X[1]))  )\n",
    "\n",
    "    "
   ]
  },
  {
   "cell_type": "code",
   "execution_count": 219,
   "id": "bacc1fa2",
   "metadata": {},
   "outputs": [],
   "source": [
    "def L2(x):\n",
    "    return ((l0(x) *f_x([0]) + (l1(x)*f_x[1]) + (l2(x)*f_x[2]))"
   ]
  },
  {
   "cell_type": "code",
   "execution_count": 224,
   "id": "2baf0a7a",
   "metadata": {},
   "outputs": [
    {
     "data": {
      "text/plain": [
       "1.1292857142857142"
      ]
     },
     "execution_count": 224,
     "metadata": {},
     "output_type": "execute_result"
    }
   ],
   "source": [
    "L2(2)"
   ]
  },
  {
   "cell_type": "code",
   "execution_count": 223,
   "id": "1e03e0cb",
   "metadata": {},
   "outputs": [
    {
     "data": {
      "image/png": "[encoded data removed]",
      "text/plain": [
       "<Figure size 432x288 with 1 Axes>"
      ]
     },
     "metadata": {
      "needs_background": "light"
     },
     "output_type": "display_data"
    }
   ],
   "source": [
    "# first we will visulize the given data x and f(x)\n",
    "plt.plot(x ,f_x ,'ro');"
   ]
  },
  {
   "cell_type": "code",
   "execution_count": 226,
   "id": "22013fb9",
   "metadata": {},
   "outputs": [
    {
     "data": {
      "image/png": "[encoded data removed]",
      "text/plain": [
       "<Figure size 432x288 with 1 Axes>"
      ]
     },
     "metadata": {
      "needs_background": "light"
     },
     "output_type": "display_data"
    }
   ],
   "source": [
    "# we can interpolate/ predict some points i.e: f(0.7),....x_new:\n",
    "x_new = np.array([0.7,1.3,1.5, 2 ,2.7])\n",
    "f_x_new=[]\n",
    "for val in (x_new):\n",
    "    f_x_new.append(L2(val))\n",
    "\n",
    "f_x_new =np.array(f_x_new)\n",
    "plt.plot(x ,f_x ,'ro');\n",
    "plt.plot(x_new ,f_x_new ,'bo');"
   ]
  },
  {
   "cell_type": "markdown",
   "id": "8c4ea7f3",
   "metadata": {},
   "source": [
    "#  Systems of Non-linear Equations\n",
    "  "
   ]
  },
  {
   "cell_type": "markdown",
   "id": "82648d0d",
   "metadata": {},
   "source": [
    "## Newton’s Method for Non-linear Systems\n",
    "* Newton’s method for non-linear systems can be written as:\n",
    "  * Xn+1 = Xn- J(Xn)' * F(Xn) \n",
    "   *   , where J(Xn) is Jacobian matrix which = 1_ partial derivative of the set fuction F(Xn)\n",
    "   \n",
    "* If the Jacobian matrix f’(X) is nonsingular at a solution of (1), the Newton’s method converges quadratically from any given initial guess x0 in the neighborhood of the solution.\n",
    "\n"
   ]
  },
  {
   "cell_type": "markdown",
   "id": "3423e582",
   "metadata": {},
   "source": [
    "### Example:\n",
    "* Solve the following problem using Newton's method, with (1, 1) as starting point:\n",
    "  * x^2 + y - 4 = 0\n",
    "  * y^2 + x - 4 = 0\n",
    "\n",
    "### Solution:\n",
    "\n"
   ]
  },
  {
   "cell_type": "markdown",
   "id": "5b2c3d35",
   "metadata": {},
   "source": [
    "* F(X) = [ x^2 + y - 4    , y^2 + x - 4 ]\n",
    "* J(X) = [ [ 2x    , 1 ], [1    , 2y] ]   ,,,,, it is the partial dervative for F(X)\n",
    "* X0 = [ 1 , 1 ]\n"
   ]
  },
  {
   "cell_type": "code",
   "execution_count": 231,
   "id": "400e22b5",
   "metadata": {},
   "outputs": [
    {
     "data": {
      "text/plain": [
       "array([1, 1])"
      ]
     },
     "execution_count": 231,
     "metadata": {},
     "output_type": "execute_result"
    }
   ],
   "source": [
    "X0 = np.array([1,1])\n",
    "X0"
   ]
  },
  {
   "cell_type": "code",
   "execution_count": 232,
   "id": "5320d8b2",
   "metadata": {},
   "outputs": [
    {
     "data": {
      "text/plain": [
       "(1, 1)"
      ]
     },
     "execution_count": 232,
     "metadata": {},
     "output_type": "execute_result"
    }
   ],
   "source": [
    "x,y = X0\n",
    "x,y"
   ]
  },
  {
   "cell_type": "code",
   "execution_count": 238,
   "id": "49a28342",
   "metadata": {},
   "outputs": [
    {
     "data": {
      "text/plain": [
       "array([-2, -2])"
      ]
     },
     "execution_count": 238,
     "metadata": {},
     "output_type": "execute_result"
    }
   ],
   "source": [
    "F=[x**2 + y - 4  ,  y**2 + x -4 ]\n",
    "\n",
    "F0=np.array(F)\n",
    "F0"
   ]
  },
  {
   "cell_type": "code",
   "execution_count": 241,
   "id": "2c5437ac",
   "metadata": {},
   "outputs": [
    {
     "data": {
      "text/plain": [
       "array([[2, 1],\n",
       "       [1, 2]])"
      ]
     },
     "execution_count": 241,
     "metadata": {},
     "output_type": "execute_result"
    }
   ],
   "source": [
    "J= [[2*x,1],[1,2*y]]\n",
    "J0=np.array(J)\n",
    "J0"
   ]
  },
  {
   "cell_type": "code",
   "execution_count": 242,
   "id": "64d402d1",
   "metadata": {},
   "outputs": [
    {
     "data": {
      "text/plain": [
       "array([[ 0.66666667, -0.33333333],\n",
       "       [-0.33333333,  0.66666667]])"
      ]
     },
     "execution_count": 242,
     "metadata": {},
     "output_type": "execute_result"
    }
   ],
   "source": [
    "J0_inverse = np.linalg.inv(J0)\n",
    "J0_inverse"
   ]
  },
  {
   "cell_type": "code",
   "execution_count": 262,
   "id": "d649692b",
   "metadata": {},
   "outputs": [],
   "source": [
    "# Itertions: \n",
    "def newton_nonlinear(no_iterations = 5):\n",
    "    X0 = np.array([1,1])\n",
    "    x,y = X0\n",
    "    for i in range(no_iterations):\n",
    "        F=[x**2 + y - 4  ,  y**2 + x -4 ]\n",
    "        F0=np.array(F)\n",
    "        J= [[2*x,1],[1,2*y]]\n",
    "        J0=np.array(J)\n",
    "        J0_inverse = np.linalg.inv(J0)\n",
    "        X1 = X0 - ( (J0_inverse)@F0)\n",
    "        print(X1)\n",
    "        X0=X1\n",
    "        J0=J\n",
    "        x,y = X0"
   ]
  },
  {
   "cell_type": "code",
   "execution_count": 263,
   "id": "373bea10",
   "metadata": {},
   "outputs": [
    {
     "name": "stdout",
     "output_type": "stream",
     "text": [
      "[1.66666667 1.66666667]\n",
      "[1.56410256 1.56410256]\n",
      "[1.56155439 1.56155439]\n",
      "[1.56155281 1.56155281]\n"
     ]
    }
   ],
   "source": [
    "newton_nonlinear(4)"
   ]
  },
  {
   "cell_type": "markdown",
   "id": "5a9c251a",
   "metadata": {},
   "source": [
    "# Numerical optimization method "
   ]
  },
  {
   "cell_type": "markdown",
   "id": "74bc2f07",
   "metadata": {},
   "source": [
    "## Steepest Descent Method"
   ]
  },
  {
   "cell_type": "markdown",
   "id": "216a4da8",
   "metadata": {},
   "source": [
    "* The method of steepest descent generates a sequencen xof iterates approximating a local minimizer of f(x). At iteration n, a given point xnis assumed to be an approximation of the exact solutionx.\n",
    "* The error is given by the residual vector: r = Axn - b =0\n",
    "* We are at the point Xn. How do we reach Xn+1?\n",
    "* The idea is to take the direction in which f(x) decreases most quickly (ie. the gradient), so the direction of steepest descent is given by:\n",
    "     * d = - D_f(Xn) = ( AXn - b )= - r_n\n",
    "\n",
    "* This is the reason for the name steepest descent or gradient method. Thus we search for a better solution in the direction dn, i.e. we have to determine the coefficient , such that the value of the real function\n",
    "     * h(a) = f(Xn - aD_f(Xn))\n",
    "* The minimum of the function his reached at:\n",
    "     * a_min = (transpose(r_n) * (r_n) ) / ( transpose(r_n)* A* (r_n) )\n",
    "* nd thus the next approximation X_n+1 of the solution is given by:\n",
    "     * Xn+1 = Xn - a_min * D_f\n",
    "*  We repeat this for every step, taking the gradient of f (x) in the next point Xn+1 and by finding a new step length\n",
    "     \n",
    "\n"
   ]
  },
  {
   "cell_type": "markdown",
   "id": "05b58885",
   "metadata": {},
   "source": [
    "# Example 1:\n",
    "\n",
    "*  using the Method of Steepest Descent minimize  the function:\n",
    " * f(x1,x2) = 4X_1^2 - 4X_1* X_2 + 2*X_2^2 \n",
    " * with initial point X0= (2,3).\n",
    "\n",
    "# soulution:\n",
    " \n"
   ]
  },
  {
   "cell_type": "code",
   "execution_count": 1,
   "id": "69b9048a",
   "metadata": {},
   "outputs": [],
   "source": [
    "import numpy as np"
   ]
  },
  {
   "cell_type": "code",
   "execution_count": 2,
   "id": "f8bc3fa8",
   "metadata": {},
   "outputs": [
    {
     "data": {
      "text/plain": [
       "array([2, 3])"
      ]
     },
     "execution_count": 2,
     "metadata": {},
     "output_type": "execute_result"
    }
   ],
   "source": [
    "X0=np.array([2,3])\n",
    "X0"
   ]
  },
  {
   "cell_type": "code",
   "execution_count": 3,
   "id": "0fc4144a",
   "metadata": {},
   "outputs": [
    {
     "data": {
      "text/plain": [
       "(2, 3)"
      ]
     },
     "execution_count": 3,
     "metadata": {},
     "output_type": "execute_result"
    }
   ],
   "source": [
    "x1,x2 = X0\n",
    "x1,x2"
   ]
  },
  {
   "cell_type": "markdown",
   "id": "68e6ee94",
   "metadata": {},
   "source": [
    "* We first compute the steepest descent direction from D_fx (the deravitive)"
   ]
  },
  {
   "cell_type": "code",
   "execution_count": 7,
   "id": "b82d1716",
   "metadata": {},
   "outputs": [
    {
     "data": {
      "text/plain": [
       "array([4, 4])"
      ]
     },
     "execution_count": 7,
     "metadata": {},
     "output_type": "execute_result"
    }
   ],
   "source": [
    "D_fx=np.array([8*x1-4*x2 , -4*x1+4*x2])\n",
    "D_fx0 =D_fx\n",
    "D_fx0\n"
   ]
  },
  {
   "cell_type": "markdown",
   "id": "1032794d",
   "metadata": {},
   "source": [
    "* We then minimize the function:\n",
    "   * h(a)= (Xn-a*D_f(X0) = f(2-4a, 3-4a)\n",
    "   * By solveing  D_h(a) = 0, ====> 64a-32=0 -----> a=0.5\n",
    "* Use the iteration formula to find X1:\n",
    "   * X1= X0- a*D_fx0 ,   and so on for X2,X3...\n",
    "   "
   ]
  },
  {
   "cell_type": "code",
   "execution_count": 8,
   "id": "c97c699d",
   "metadata": {},
   "outputs": [],
   "source": [
    "a=0.5 "
   ]
  },
  {
   "cell_type": "code",
   "execution_count": 9,
   "id": "cff4f96a",
   "metadata": {},
   "outputs": [
    {
     "data": {
      "text/plain": [
       "array([0., 1.])"
      ]
     },
     "execution_count": 9,
     "metadata": {},
     "output_type": "execute_result"
    }
   ],
   "source": [
    "X1=X0- a* D_fx0\n",
    "X1"
   ]
  },
  {
   "cell_type": "markdown",
   "id": "980e405f",
   "metadata": {},
   "source": [
    "* .... this is  for one iteration only ..."
   ]
  },
  {
   "cell_type": "markdown",
   "id": "7c7674e9",
   "metadata": {},
   "source": [
    "# Example2: \n",
    "* Solve the following linear systems Ax=b given bellow using the gradient method with initial point X0=(0,0)\n",
    "* ((3,1),(1,4)) (x,y) = (1,0) \n",
    "# Solution: \n",
    "* Using gradient descent algorithm, we obtain:\n",
    "  * r0 = b - AX0 = (0,1)\n",
    "  * a0 = (transpose(r0) * (r0) ) / ( transpose(r0)* A* (r0) ) = ...\n",
    "  * The new iteration is: X1 = X0 + a0 * r0 =...."
   ]
  },
  {
   "cell_type": "code",
   "execution_count": 43,
   "id": "8328cf3c",
   "metadata": {},
   "outputs": [
    {
     "data": {
      "text/plain": [
       "array([[3, 1],\n",
       "       [1, 4]])"
      ]
     },
     "execution_count": 43,
     "metadata": {},
     "output_type": "execute_result"
    }
   ],
   "source": [
    "A = np.array ( [[3,1],\n",
    "                [1,4]\n",
    "               ])\n",
    "A"
   ]
  },
  {
   "cell_type": "code",
   "execution_count": 44,
   "id": "b0d4a26a",
   "metadata": {},
   "outputs": [
    {
     "data": {
      "text/plain": [
       "array([1, 0])"
      ]
     },
     "execution_count": 44,
     "metadata": {},
     "output_type": "execute_result"
    }
   ],
   "source": [
    "b= np.array([1,0])\n",
    "b"
   ]
  },
  {
   "cell_type": "code",
   "execution_count": 45,
   "id": "a2139fce",
   "metadata": {},
   "outputs": [
    {
     "data": {
      "text/plain": [
       "array([0, 0])"
      ]
     },
     "execution_count": 45,
     "metadata": {},
     "output_type": "execute_result"
    }
   ],
   "source": [
    "X0 =np.array([0,0])\n",
    "X0"
   ]
  },
  {
   "cell_type": "code",
   "execution_count": 46,
   "id": "ae4eb925",
   "metadata": {},
   "outputs": [
    {
     "data": {
      "text/plain": [
       "array([1, 0])"
      ]
     },
     "execution_count": 46,
     "metadata": {},
     "output_type": "execute_result"
    }
   ],
   "source": [
    "r0=b-A@X0\n",
    "r0"
   ]
  },
  {
   "cell_type": "code",
   "execution_count": 47,
   "id": "b7564af0",
   "metadata": {},
   "outputs": [
    {
     "data": {
      "text/plain": [
       "0.3333333333333333"
      ]
     },
     "execution_count": 47,
     "metadata": {},
     "output_type": "execute_result"
    }
   ],
   "source": [
    "a0 = (r0.transpose()@ r0) / (r0.transpose()@A@r0)\n",
    "a0"
   ]
  },
  {
   "cell_type": "markdown",
   "id": "47117b2d",
   "metadata": {},
   "source": [
    "* The new iteration:"
   ]
  },
  {
   "cell_type": "code",
   "execution_count": 48,
   "id": "e6f16dfe",
   "metadata": {},
   "outputs": [
    {
     "data": {
      "text/plain": [
       "array([0.33333333, 0.        ])"
      ]
     },
     "execution_count": 48,
     "metadata": {},
     "output_type": "execute_result"
    }
   ],
   "source": [
    "X1= X0+a0*r0\n",
    "X1"
   ]
  },
  {
   "cell_type": "markdown",
   "id": "defd81ed",
   "metadata": {},
   "source": [
    "* we can use a fuction to do more iterations as the following:"
   ]
  },
  {
   "cell_type": "code",
   "execution_count": 54,
   "id": "8af1b63e",
   "metadata": {},
   "outputs": [],
   "source": [
    "def garadient_descent(no_iterations=5,X0 =np.array([0,0])):\n",
    "    A = np.array ( [[3,1],[1,4]])\n",
    "    b= np.array([1,0])\n",
    "    for i in range(no_iterations):\n",
    "        r0=b-A@X0\n",
    "        a0 = (r0@r0) / (r0@A@r0)\n",
    "        #print(r0)\n",
    "        X1= X0+a0*r0\n",
    "        print(X1)\n",
    "        X0=X1\n",
    "    \n",
    "    \n",
    "    \n",
    "\n",
    "    "
   ]
  },
  {
   "cell_type": "code",
   "execution_count": 56,
   "id": "ca4aebed",
   "metadata": {},
   "outputs": [
    {
     "name": "stdout",
     "output_type": "stream",
     "text": [
      "[0.33333333 0.        ]\n",
      "[ 0.33333333 -0.08333333]\n",
      "[ 0.36111111 -0.08333333]\n",
      "[ 0.36111111 -0.09027778]\n",
      "[ 0.36342593 -0.09027778]\n",
      "[ 0.36342593 -0.09085648]\n",
      "[ 0.36361883 -0.09085648]\n",
      "[ 0.36361883 -0.09090471]\n",
      "[ 0.3636349  -0.09090471]\n",
      "[ 0.3636349  -0.09090873]\n"
     ]
    }
   ],
   "source": [
    "garadient_descent(10)"
   ]
  },
  {
   "cell_type": "markdown",
   "id": "a7d75bda",
   "metadata": {},
   "source": [
    "* Note: \n",
    "* Download it as html file then go to:\n",
    "\n",
    "https://www.sejda.com/html-to-pdf"
   ]
  },
  {
   "cell_type": "markdown",
   "id": "b2266d62",
   "metadata": {},
   "source": [
    "# Eigenvalues and eigenvectors\n"
   ]
  },
  {
   "cell_type": "markdown",
   "id": "fd13771d",
   "metadata": {},
   "source": [
    "### Example 1:\n",
    "* Find the eigenvalues and the corresponding eigenvectors of A.\n",
    "A=((-3,-2),(-5,0))\n",
    "### Solution: \n",
    "*Using built in functions in numpy library."
   ]
  },
  {
   "cell_type": "code",
   "execution_count": 1,
   "id": "f6ae0fbd",
   "metadata": {},
   "outputs": [],
   "source": [
    "import numpy as np "
   ]
  },
  {
   "cell_type": "code",
   "execution_count": 2,
   "id": "77c2469a",
   "metadata": {},
   "outputs": [
    {
     "data": {
      "text/plain": [
       "array([[-3, -2],\n",
       "       [-5,  0]])"
      ]
     },
     "execution_count": 2,
     "metadata": {},
     "output_type": "execute_result"
    }
   ],
   "source": [
    "A=np.array([[-3,-2],\n",
    "            [-5,0]])\n",
    "A"
   ]
  },
  {
   "cell_type": "code",
   "execution_count": 4,
   "id": "9a96cbd6",
   "metadata": {},
   "outputs": [
    {
     "data": {
      "text/plain": [
       "(array([-5.,  2.]),\n",
       " array([[-0.70710678,  0.37139068],\n",
       "        [-0.70710678, -0.92847669]]))"
      ]
     },
     "execution_count": 4,
     "metadata": {},
     "output_type": "execute_result"
    }
   ],
   "source": [
    "# To get the eigen values and corresponding eigen vectors\n",
    "np.linalg.eig(A)"
   ]
  },
  {
   "cell_type": "code",
   "execution_count": 6,
   "id": "e7249c83",
   "metadata": {},
   "outputs": [
    {
     "data": {
      "text/plain": [
       "array([-5.,  2.])"
      ]
     },
     "execution_count": 6,
     "metadata": {},
     "output_type": "execute_result"
    }
   ],
   "source": [
    "# to get only the eigen values \n",
    "np.linalg.eig(A)[0]"
   ]
  },
  {
   "cell_type": "markdown",
   "id": "06ccc120",
   "metadata": {},
   "source": [
    "# Power Method\n",
    "* Power method for finding eigenvalues:\n",
    "  * 1. Start with an initial guess for x \n",
    "  * 2. Calculate y = Ax\n",
    "  * 3. Largest value (magnitude) in y is the estimate of eigenvalue\n",
    "  * 4. Get next x by rescaling y (to avoid the computation of very large matrix An )\n",
    "  * 5. Continue until converged\n",
    "  \n"
   ]
  },
  {
   "cell_type": "markdown",
   "id": "4dda5c0f",
   "metadata": {},
   "source": [
    "### Example :\n",
    "* Find the dominant eigenvalue of A and its corresponding eigenvector.\n",
    "* Use X0=(1,0) as an intial vector\n",
    "\n"
   ]
  },
  {
   "cell_type": "code",
   "execution_count": 22,
   "id": "beb2557a",
   "metadata": {},
   "outputs": [],
   "source": [
    "import numpy as np \n"
   ]
  },
  {
   "cell_type": "code",
   "execution_count": 112,
   "id": "9b0d5f2a",
   "metadata": {},
   "outputs": [
    {
     "data": {
      "text/plain": [
       "array([[ 2, -1],\n",
       "       [-1,  2]])"
      ]
     },
     "execution_count": 112,
     "metadata": {},
     "output_type": "execute_result"
    }
   ],
   "source": [
    "A=np.array([[2,-1],\n",
    "            [-1,2],\n",
    "           ])\n",
    "A\n"
   ]
  },
  {
   "cell_type": "code",
   "execution_count": 113,
   "id": "0df45b95",
   "metadata": {},
   "outputs": [
    {
     "data": {
      "text/plain": [
       "array([1, 0])"
      ]
     },
     "execution_count": 113,
     "metadata": {},
     "output_type": "execute_result"
    }
   ],
   "source": [
    "X0 = np.array([1,0])\n",
    "X0\n"
   ]
  },
  {
   "cell_type": "code",
   "execution_count": 114,
   "id": "df63b680",
   "metadata": {},
   "outputs": [],
   "source": [
    "eig=None\n",
    "def power_method(initial_vector, no_iterations=5 ):\n",
    "    for i in range(no_iterations):\n",
    "        y= A @ initial_vector \n",
    "        j=np.unravel_index(abs(y).argmax(), y.shape)\n",
    "        eig=y[j]\n",
    "        y=y/eig\n",
    "        print(f'appr_eigen value: {round(eig,4)}, appr_eig_vector: {y}')\n",
    "        initial_vector= y\n",
    "    \n",
    "    \n",
    "    \n"
   ]
  },
  {
   "cell_type": "code",
   "execution_count": 115,
   "id": "8c820d6e",
   "metadata": {},
   "outputs": [
    {
     "name": "stdout",
     "output_type": "stream",
     "text": [
      "appr_eigen value: 2, appr_eig_vector: [ 1.  -0.5]\n",
      "appr_eigen value: 2.5, appr_eig_vector: [ 1.  -0.8]\n",
      "appr_eigen value: 2.8, appr_eig_vector: [ 1.         -0.92857143]\n",
      "appr_eigen value: 2.9286, appr_eig_vector: [ 1.         -0.97560976]\n",
      "appr_eigen value: 2.9756, appr_eig_vector: [ 1.         -0.99180328]\n"
     ]
    }
   ],
   "source": [
    "power_method(X0)\n"
   ]
  },
  {
   "cell_type": "markdown",
   "id": "74af6d65",
   "metadata": {},
   "source": [
    "# Inverse Power Method\n",
    "* The inverse power method can be used to obtain the smallest eigenvalue of a matrix.\n",
    "* steps are the same normal power method but we use inverse of A' to find the dominant/max eigen value, and finally  we take the inverse (1/eig_value) of that dominant  eigen value of A' .\n",
    "\n",
    "## Example :\n",
    "* Use the inverse power method to find the smallest eigenvalue of:\n",
    "* A = ((-18,40),(-12,2))\n",
    "* X0=(1,1)\n"
   ]
  },
  {
   "cell_type": "code",
   "execution_count": 116,
   "id": "8d704cb9",
   "metadata": {},
   "outputs": [
    {
     "data": {
      "text/plain": [
       "array([[-18,  40],\n",
       "       [-12,  26]])"
      ]
     },
     "execution_count": 116,
     "metadata": {},
     "output_type": "execute_result"
    }
   ],
   "source": [
    "A=np.array([[-18,40],\n",
    "            [-12,26],\n",
    "           ])\n",
    "A\n"
   ]
  },
  {
   "cell_type": "code",
   "execution_count": 117,
   "id": "17798e05",
   "metadata": {},
   "outputs": [
    {
     "data": {
      "text/plain": [
       "array([1, 1])"
      ]
     },
     "execution_count": 117,
     "metadata": {},
     "output_type": "execute_result"
    }
   ],
   "source": [
    "X0 = np.array([1,1])\n",
    "X0\n"
   ]
  },
  {
   "cell_type": "code",
   "execution_count": 124,
   "id": "33dc8d77",
   "metadata": {},
   "outputs": [],
   "source": [
    "eig=None\n",
    "def inv_power_method(initial_vector, no_iterations=5 ):\n",
    "    B= np.linalg.inv(A)\n",
    "    for i in range(no_iterations):\n",
    "        y= B @ initial_vector \n",
    "        j=np.unravel_index(abs(y).argmax(), y.shape)\n",
    "        eig=y[j]\n",
    "        y=y/eig\n",
    "        print(f'appr_eigen value: {round(eig,4)}, appr_eig_vector: {y}')\n",
    "        initial_vector= y\n",
    "    print(f'The smallest eig_value =1/eig = {1/eig}')\n",
    "    \n",
    "    "
   ]
  },
  {
   "cell_type": "code",
   "execution_count": 125,
   "id": "ef151b3b",
   "metadata": {},
   "outputs": [
    {
     "name": "stdout",
     "output_type": "stream",
     "text": [
      "appr_eigen value: -1.1667, appr_eig_vector: [1.         0.42857143]\n",
      "appr_eigen value: 0.7381, appr_eig_vector: [1.         0.48387097]\n",
      "appr_eigen value: 0.5538, appr_eig_vector: [1.         0.49514563]\n",
      "appr_eigen value: 0.5162, appr_eig_vector: [1.        0.4984326]\n",
      "appr_eigen value: 0.5052, appr_eig_vector: [1.         0.49948294]\n",
      "appr_eigen value: 0.5017, appr_eig_vector: [1.         0.49982824]\n",
      "The smallest eig_value =1/eig = 1.993129508759876\n"
     ]
    }
   ],
   "source": [
    "inv_power_method(X0,6)"
   ]
  },
  {
   "cell_type": "code",
   "execution_count": null,
   "id": "3960cd3d",
   "metadata": {},
   "outputs": [],
   "source": []
  }
 ],
 "metadata": {
  "kernelspec": {
   "display_name": "Python 3 (ipykernel)",
   "language": "python",
   "name": "python3"
  },
  "language_info": {
   "codemirror_mode": {
    "name": "ipython",
    "version": 3
   },
   "file_extension": ".py",
   "mimetype": "text/x-python",
   "name": "python",
   "nbconvert_exporter": "python",
   "pygments_lexer": "ipython3",
   "version": "3.9.7"
  }
 },
 "nbformat": 4,
 "nbformat_minor": 5
}
